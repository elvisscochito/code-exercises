{
 "cells": [
  {
   "cell_type": "markdown",
   "metadata": {},
   "source": [
    "# Situación problema (Parte 2)\n"
   ]
  },
  {
   "cell_type": "markdown",
   "metadata": {},
   "source": [
    "**Instrucciones:** Considera las agrupaciones creadas en la Actividad 6: tratamiento de datos (parte 1) y con éstas\n",
    "realizarás lo siguiente:\n"
   ]
  },
  {
   "cell_type": "code",
   "execution_count": 8,
   "metadata": {},
   "outputs": [],
   "source": [
    "import matplotlib.pyplot as plt\n",
    "import numpy as np\n",
    "import pandas as pd\n",
    "import pingouin as pg\n",
    "import plotly.express as px\n",
    "import scipy.stats as st\n",
    "import seaborn as sb\n",
    "from scipy.stats import shapiro, levene"
   ]
  },
  {
   "cell_type": "code",
   "execution_count": 9,
   "metadata": {},
   "outputs": [
    {
     "name": "stdout",
     "output_type": "stream",
     "text": [
      "        Calories  Carbohydrates    Protein      Sodium\n",
      "count  91.000000      91.000000  91.000000   91.000000\n",
      "mean   51.382697       7.688705   3.230015  274.370879\n",
      "std    12.339656       1.304327   0.659678  123.163569\n",
      "min    22.075100       3.984000   1.313300    6.174900\n",
      "25%    45.697400       7.210800   3.122000  191.064050\n",
      "50%    48.054200       7.794800   3.162700  298.875100\n",
      "75%    57.929250       8.369300   3.505550  347.257950\n",
      "max    84.557700      12.723600   6.263600  553.037900\n",
      "\n",
      " Calories         float64\n",
      "Carbohydrates    float64\n",
      "Protein          float64\n",
      "Sodium           float64\n",
      "dtype: object\n"
     ]
    },
    {
     "data": {
      "text/html": [
       "<div>\n",
       "<style scoped>\n",
       "    .dataframe tbody tr th:only-of-type {\n",
       "        vertical-align: middle;\n",
       "    }\n",
       "\n",
       "    .dataframe tbody tr th {\n",
       "        vertical-align: top;\n",
       "    }\n",
       "\n",
       "    .dataframe thead th {\n",
       "        text-align: right;\n",
       "    }\n",
       "</style>\n",
       "<table border=\"1\" class=\"dataframe\">\n",
       "  <thead>\n",
       "    <tr style=\"text-align: right;\">\n",
       "      <th></th>\n",
       "      <th>Calories</th>\n",
       "      <th>Carbohydrates</th>\n",
       "      <th>Protein</th>\n",
       "      <th>Sodium</th>\n",
       "    </tr>\n",
       "  </thead>\n",
       "  <tbody>\n",
       "    <tr>\n",
       "      <th>0</th>\n",
       "      <td>61.3375</td>\n",
       "      <td>8.0656</td>\n",
       "      <td>3.3210</td>\n",
       "      <td>298.8751</td>\n",
       "    </tr>\n",
       "    <tr>\n",
       "      <th>1</th>\n",
       "      <td>56.5156</td>\n",
       "      <td>8.2981</td>\n",
       "      <td>3.6967</td>\n",
       "      <td>281.2446</td>\n",
       "    </tr>\n",
       "    <tr>\n",
       "      <th>2</th>\n",
       "      <td>60.6808</td>\n",
       "      <td>8.1841</td>\n",
       "      <td>3.5115</td>\n",
       "      <td>243.7979</td>\n",
       "    </tr>\n",
       "    <tr>\n",
       "      <th>3</th>\n",
       "      <td>56.6705</td>\n",
       "      <td>8.8800</td>\n",
       "      <td>3.3953</td>\n",
       "      <td>253.2294</td>\n",
       "    </tr>\n",
       "    <tr>\n",
       "      <th>4</th>\n",
       "      <td>57.6466</td>\n",
       "      <td>7.6791</td>\n",
       "      <td>3.4996</td>\n",
       "      <td>343.9859</td>\n",
       "    </tr>\n",
       "    <tr>\n",
       "      <th>...</th>\n",
       "      <td>...</td>\n",
       "      <td>...</td>\n",
       "      <td>...</td>\n",
       "      <td>...</td>\n",
       "    </tr>\n",
       "    <tr>\n",
       "      <th>86</th>\n",
       "      <td>47.7728</td>\n",
       "      <td>7.9780</td>\n",
       "      <td>3.1220</td>\n",
       "      <td>182.8107</td>\n",
       "    </tr>\n",
       "    <tr>\n",
       "      <th>87</th>\n",
       "      <td>45.6974</td>\n",
       "      <td>7.2108</td>\n",
       "      <td>3.1427</td>\n",
       "      <td>314.2868</td>\n",
       "    </tr>\n",
       "    <tr>\n",
       "      <th>88</th>\n",
       "      <td>45.6974</td>\n",
       "      <td>7.2108</td>\n",
       "      <td>3.1427</td>\n",
       "      <td>314.2868</td>\n",
       "    </tr>\n",
       "    <tr>\n",
       "      <th>89</th>\n",
       "      <td>48.0542</td>\n",
       "      <td>8.1674</td>\n",
       "      <td>3.1220</td>\n",
       "      <td>186.8209</td>\n",
       "    </tr>\n",
       "    <tr>\n",
       "      <th>90</th>\n",
       "      <td>71.3063</td>\n",
       "      <td>8.6025</td>\n",
       "      <td>3.9091</td>\n",
       "      <td>426.2521</td>\n",
       "    </tr>\n",
       "  </tbody>\n",
       "</table>\n",
       "<p>91 rows × 4 columns</p>\n",
       "</div>"
      ],
      "text/plain": [
       "    Calories  Carbohydrates  Protein    Sodium\n",
       "0    61.3375         8.0656   3.3210  298.8751\n",
       "1    56.5156         8.2981   3.6967  281.2446\n",
       "2    60.6808         8.1841   3.5115  243.7979\n",
       "3    56.6705         8.8800   3.3953  253.2294\n",
       "4    57.6466         7.6791   3.4996  343.9859\n",
       "..       ...            ...      ...       ...\n",
       "86   47.7728         7.9780   3.1220  182.8107\n",
       "87   45.6974         7.2108   3.1427  314.2868\n",
       "88   45.6974         7.2108   3.1427  314.2868\n",
       "89   48.0542         8.1674   3.1220  186.8209\n",
       "90   71.3063         8.6025   3.9091  426.2521\n",
       "\n",
       "[91 rows x 4 columns]"
      ]
     },
     "metadata": {},
     "output_type": "display_data"
    }
   ],
   "source": [
    "def setup_data():\n",
    "    # import data from csv file into a dataframe\n",
    "    df = pd.read_csv('nutrition-facts-week15-normalized-transformed.csv')\n",
    "\n",
    "    # get descriptive statistics\n",
    "    print(df.describe())\n",
    "    print(f\"\\n {df.dtypes}\")\n",
    "    display(df)\n",
    "\n",
    "    return df\n",
    "    \n",
    "original_df = setup_data()"
   ]
  },
  {
   "cell_type": "markdown",
   "metadata": {},
   "source": [
    "1. Dependiendo del número de grupos calóricos que hayas creado, estima los diferentes intervalos de confianza que se obtienen para la diferencia del promedio de calorías entre un grupo calórico y otro, al 97% de confianza.\n"
   ]
  },
  {
   "cell_type": "code",
   "execution_count": 10,
   "metadata": {},
   "outputs": [
    {
     "name": "stdout",
     "output_type": "stream",
     "text": [
      "\n",
      "New low criteria:\n",
      "interval_low_1: -4.235949393416261\n",
      "interval_low_2: 74.52976416158188\n",
      "\n",
      "New average criteria:\n",
      "interval_average_1: 74.52976416158188\n",
      "interval_average_2: 83.04588384966141\n",
      "\n",
      "New high criteria:\n",
      "interval_high_1: 83.04588384966141\n",
      "interval_high_2: 104.20580594964066\n"
     ]
    }
   ],
   "source": [
    "def transform_criteria():\n",
    "    global interval_low_1\n",
    "    global interval_low_2\n",
    "    global interval_average_1\n",
    "    global interval_average_2\n",
    "    global interval_high_1\n",
    "    global interval_high_2\n",
    "\n",
    "    # get from the prev homework\n",
    "    best_lambda_cal = 0.47214917229854225\n",
    "\n",
    "    # apply boxcox formula transformation to the criteria\n",
    "    interval_low_1 = ((-1**best_lambda_cal - 1) / best_lambda_cal)\n",
    "    interval_low_2 = ((2000**best_lambda_cal - 1) / best_lambda_cal)\n",
    "    print(\"\\nNew low criteria:\", f\"interval_low_1: {interval_low_1}\", f\"interval_low_2: {interval_low_2}\", sep='\\n')\n",
    "\n",
    "    interval_average_1 = ((2000**best_lambda_cal - 1) / best_lambda_cal)\n",
    "    interval_average_2 = ((2500**best_lambda_cal - 1) / best_lambda_cal)\n",
    "    print(\"\\nNew average criteria:\", f\"interval_average_1: {interval_average_1}\", f\"interval_average_2: {interval_average_2}\", sep='\\n')\n",
    "\n",
    "    interval_high_1 = ((2500**best_lambda_cal - 1) / best_lambda_cal)\n",
    "    interval_high_2 = ((4000**best_lambda_cal - 1) / best_lambda_cal)\n",
    "    print(\"\\nNew high criteria:\", f\"interval_high_1: {interval_high_1}\", f\"interval_high_2: {interval_high_2}\", sep='\\n')\n",
    "    \n",
    "transform_criteria()"
   ]
  },
  {
   "cell_type": "code",
   "execution_count": 11,
   "metadata": {},
   "outputs": [
    {
     "name": "stdout",
     "output_type": "stream",
     "text": [
      "df_cal_low:\n"
     ]
    },
    {
     "data": {
      "text/html": [
       "<div>\n",
       "<style scoped>\n",
       "    .dataframe tbody tr th:only-of-type {\n",
       "        vertical-align: middle;\n",
       "    }\n",
       "\n",
       "    .dataframe tbody tr th {\n",
       "        vertical-align: top;\n",
       "    }\n",
       "\n",
       "    .dataframe thead th {\n",
       "        text-align: right;\n",
       "    }\n",
       "</style>\n",
       "<table border=\"1\" class=\"dataframe\">\n",
       "  <thead>\n",
       "    <tr style=\"text-align: right;\">\n",
       "      <th></th>\n",
       "      <th>Calories</th>\n",
       "      <th>Carbohydrates</th>\n",
       "      <th>Protein</th>\n",
       "      <th>Sodium</th>\n",
       "    </tr>\n",
       "  </thead>\n",
       "  <tbody>\n",
       "    <tr>\n",
       "      <th>0</th>\n",
       "      <td>61.3375</td>\n",
       "      <td>8.0656</td>\n",
       "      <td>3.3210</td>\n",
       "      <td>298.8751</td>\n",
       "    </tr>\n",
       "    <tr>\n",
       "      <th>1</th>\n",
       "      <td>56.5156</td>\n",
       "      <td>8.2981</td>\n",
       "      <td>3.6967</td>\n",
       "      <td>281.2446</td>\n",
       "    </tr>\n",
       "    <tr>\n",
       "      <th>2</th>\n",
       "      <td>60.6808</td>\n",
       "      <td>8.1841</td>\n",
       "      <td>3.5115</td>\n",
       "      <td>243.7979</td>\n",
       "    </tr>\n",
       "    <tr>\n",
       "      <th>3</th>\n",
       "      <td>56.6705</td>\n",
       "      <td>8.8800</td>\n",
       "      <td>3.3953</td>\n",
       "      <td>253.2294</td>\n",
       "    </tr>\n",
       "    <tr>\n",
       "      <th>4</th>\n",
       "      <td>57.6466</td>\n",
       "      <td>7.6791</td>\n",
       "      <td>3.4996</td>\n",
       "      <td>343.9859</td>\n",
       "    </tr>\n",
       "    <tr>\n",
       "      <th>...</th>\n",
       "      <td>...</td>\n",
       "      <td>...</td>\n",
       "      <td>...</td>\n",
       "      <td>...</td>\n",
       "    </tr>\n",
       "    <tr>\n",
       "      <th>86</th>\n",
       "      <td>47.7728</td>\n",
       "      <td>7.9780</td>\n",
       "      <td>3.1220</td>\n",
       "      <td>182.8107</td>\n",
       "    </tr>\n",
       "    <tr>\n",
       "      <th>87</th>\n",
       "      <td>45.6974</td>\n",
       "      <td>7.2108</td>\n",
       "      <td>3.1427</td>\n",
       "      <td>314.2868</td>\n",
       "    </tr>\n",
       "    <tr>\n",
       "      <th>88</th>\n",
       "      <td>45.6974</td>\n",
       "      <td>7.2108</td>\n",
       "      <td>3.1427</td>\n",
       "      <td>314.2868</td>\n",
       "    </tr>\n",
       "    <tr>\n",
       "      <th>89</th>\n",
       "      <td>48.0542</td>\n",
       "      <td>8.1674</td>\n",
       "      <td>3.1220</td>\n",
       "      <td>186.8209</td>\n",
       "    </tr>\n",
       "    <tr>\n",
       "      <th>90</th>\n",
       "      <td>71.3063</td>\n",
       "      <td>8.6025</td>\n",
       "      <td>3.9091</td>\n",
       "      <td>426.2521</td>\n",
       "    </tr>\n",
       "  </tbody>\n",
       "</table>\n",
       "<p>87 rows × 4 columns</p>\n",
       "</div>"
      ],
      "text/plain": [
       "    Calories  Carbohydrates  Protein    Sodium\n",
       "0    61.3375         8.0656   3.3210  298.8751\n",
       "1    56.5156         8.2981   3.6967  281.2446\n",
       "2    60.6808         8.1841   3.5115  243.7979\n",
       "3    56.6705         8.8800   3.3953  253.2294\n",
       "4    57.6466         7.6791   3.4996  343.9859\n",
       "..       ...            ...      ...       ...\n",
       "86   47.7728         7.9780   3.1220  182.8107\n",
       "87   45.6974         7.2108   3.1427  314.2868\n",
       "88   45.6974         7.2108   3.1427  314.2868\n",
       "89   48.0542         8.1674   3.1220  186.8209\n",
       "90   71.3063         8.6025   3.9091  426.2521\n",
       "\n",
       "[87 rows x 4 columns]"
      ]
     },
     "metadata": {},
     "output_type": "display_data"
    },
    {
     "name": "stdout",
     "output_type": "stream",
     "text": [
      "(87, 4)\n",
      "df_cal_average:\n"
     ]
    },
    {
     "data": {
      "text/html": [
       "<div>\n",
       "<style scoped>\n",
       "    .dataframe tbody tr th:only-of-type {\n",
       "        vertical-align: middle;\n",
       "    }\n",
       "\n",
       "    .dataframe tbody tr th {\n",
       "        vertical-align: top;\n",
       "    }\n",
       "\n",
       "    .dataframe thead th {\n",
       "        text-align: right;\n",
       "    }\n",
       "</style>\n",
       "<table border=\"1\" class=\"dataframe\">\n",
       "  <thead>\n",
       "    <tr style=\"text-align: right;\">\n",
       "      <th></th>\n",
       "      <th>Calories</th>\n",
       "      <th>Carbohydrates</th>\n",
       "      <th>Protein</th>\n",
       "      <th>Sodium</th>\n",
       "    </tr>\n",
       "  </thead>\n",
       "  <tbody>\n",
       "    <tr>\n",
       "      <th>13</th>\n",
       "      <td>76.5854</td>\n",
       "      <td>9.5714</td>\n",
       "      <td>4.0215</td>\n",
       "      <td>465.7321</td>\n",
       "    </tr>\n",
       "    <tr>\n",
       "      <th>20</th>\n",
       "      <td>74.8039</td>\n",
       "      <td>8.7024</td>\n",
       "      <td>4.0532</td>\n",
       "      <td>546.3756</td>\n",
       "    </tr>\n",
       "    <tr>\n",
       "      <th>21</th>\n",
       "      <td>80.5648</td>\n",
       "      <td>7.7948</td>\n",
       "      <td>4.1123</td>\n",
       "      <td>553.0379</td>\n",
       "    </tr>\n",
       "  </tbody>\n",
       "</table>\n",
       "</div>"
      ],
      "text/plain": [
       "    Calories  Carbohydrates  Protein    Sodium\n",
       "13   76.5854         9.5714   4.0215  465.7321\n",
       "20   74.8039         8.7024   4.0532  546.3756\n",
       "21   80.5648         7.7948   4.1123  553.0379"
      ]
     },
     "metadata": {},
     "output_type": "display_data"
    },
    {
     "name": "stdout",
     "output_type": "stream",
     "text": [
      "(3, 4)\n",
      "df_cal_high:\n"
     ]
    },
    {
     "data": {
      "text/html": [
       "<div>\n",
       "<style scoped>\n",
       "    .dataframe tbody tr th:only-of-type {\n",
       "        vertical-align: middle;\n",
       "    }\n",
       "\n",
       "    .dataframe tbody tr th {\n",
       "        vertical-align: top;\n",
       "    }\n",
       "\n",
       "    .dataframe thead th {\n",
       "        text-align: right;\n",
       "    }\n",
       "</style>\n",
       "<table border=\"1\" class=\"dataframe\">\n",
       "  <thead>\n",
       "    <tr style=\"text-align: right;\">\n",
       "      <th></th>\n",
       "      <th>Calories</th>\n",
       "      <th>Carbohydrates</th>\n",
       "      <th>Protein</th>\n",
       "      <th>Sodium</th>\n",
       "    </tr>\n",
       "  </thead>\n",
       "  <tbody>\n",
       "    <tr>\n",
       "      <th>25</th>\n",
       "      <td>84.5577</td>\n",
       "      <td>10.6436</td>\n",
       "      <td>3.8264</td>\n",
       "      <td>351.769</td>\n",
       "    </tr>\n",
       "  </tbody>\n",
       "</table>\n",
       "</div>"
      ],
      "text/plain": [
       "    Calories  Carbohydrates  Protein   Sodium\n",
       "25   84.5577        10.6436   3.8264  351.769"
      ]
     },
     "metadata": {},
     "output_type": "display_data"
    },
    {
     "name": "stdout",
     "output_type": "stream",
     "text": [
      "(1, 4)\n"
     ]
    }
   ],
   "source": [
    "def filter_data(df):\n",
    "    global df_cal_low\n",
    "    global df_cal_average\n",
    "    global df_cal_high\n",
    "\n",
    "    df_cal_low = df[(df['Calories'] >= interval_low_1) & (df['Calories'] <= interval_low_2)]\n",
    "\n",
    "    df_cal_average = df[(df['Calories'] >= interval_average_1) & (df['Calories'] <= interval_average_2)]\n",
    "\n",
    "    df_cal_high = df[(df['Calories'] >= interval_high_1) & (df['Calories'] <= interval_high_2)]\n",
    "\n",
    "    print(\"df_cal_low:\")\n",
    "    display(df_cal_low)\n",
    "    print(df_cal_low.shape)\n",
    "    print(\"df_cal_average:\")\n",
    "    display(df_cal_average)\n",
    "    print(df_cal_average.shape)\n",
    "    print(\"df_cal_high:\")\n",
    "    display(df_cal_high)\n",
    "    print(df_cal_high.shape)\n",
    "\n",
    "filter_data(original_df)"
   ]
  },
  {
   "cell_type": "markdown",
   "metadata": {},
   "source": [
    "**Como ya verificaste y “corregiste” el supuesto de normalidad para cada una de las variables bajo estudio, ya puedes asumir que cada grupo calórico lo es.**\n"
   ]
  },
  {
   "cell_type": "code",
   "execution_count": 12,
   "metadata": {},
   "outputs": [
    {
     "ename": "ValueError",
     "evalue": "Data must be at least length 3.",
     "output_type": "error",
     "traceback": [
      "\u001b[0;31m---------------------------------------------------------------------------\u001b[0m",
      "\u001b[0;31mValueError\u001b[0m                                Traceback (most recent call last)",
      "\u001b[0;32m/var/folders/3_/3p9dpmm16ybf58qzg7gcrgvc0000gn/T/ipykernel_24809/1040595187.py\u001b[0m in \u001b[0;36m<module>\u001b[0;34m\u001b[0m\n\u001b[1;32m      9\u001b[0m \u001b[0;34m\u001b[0m\u001b[0m\n\u001b[1;32m     10\u001b[0m     \u001b[0mprint\u001b[0m\u001b[0;34m(\u001b[0m\u001b[0;34mf\"\\nFor phnorm_low_cal 'P-value' is greater or equal than 'alpha': {phnorm_low_cal[1] > 0.03}\"\u001b[0m\u001b[0;34m,\u001b[0m \u001b[0;34mf\"For phnorm_high_cal 'P-value' is greater or equal than 'alpha': {phnorm_cal_average[1] > 0.03}\"\u001b[0m\u001b[0;34m,\u001b[0m \u001b[0;34mf\"For phnorm_high_cal 'P-value' is greater or equal than 'alpha': {phnorm_cal_high[1] > 0.03}\"\u001b[0m\u001b[0;34m,\u001b[0m \u001b[0msep\u001b[0m\u001b[0;34m=\u001b[0m\u001b[0;34m'\\n'\u001b[0m\u001b[0;34m)\u001b[0m\u001b[0;34m\u001b[0m\u001b[0;34m\u001b[0m\u001b[0m\n\u001b[0;32m---> 11\u001b[0;31m \u001b[0mcheck_normality\u001b[0m\u001b[0;34m(\u001b[0m\u001b[0;34m)\u001b[0m\u001b[0;34m\u001b[0m\u001b[0;34m\u001b[0m\u001b[0m\n\u001b[0m",
      "\u001b[0;32m/var/folders/3_/3p9dpmm16ybf58qzg7gcrgvc0000gn/T/ipykernel_24809/1040595187.py\u001b[0m in \u001b[0;36mcheck_normality\u001b[0;34m()\u001b[0m\n\u001b[1;32m      4\u001b[0m     \u001b[0mphnorm_low_cal\u001b[0m \u001b[0;34m=\u001b[0m \u001b[0mshapiro\u001b[0m\u001b[0;34m(\u001b[0m\u001b[0mdf_cal_low\u001b[0m\u001b[0;34m[\u001b[0m\u001b[0;34m'Calories'\u001b[0m\u001b[0;34m]\u001b[0m\u001b[0;34m)\u001b[0m\u001b[0;34m\u001b[0m\u001b[0;34m\u001b[0m\u001b[0m\n\u001b[1;32m      5\u001b[0m     \u001b[0mphnorm_cal_average\u001b[0m \u001b[0;34m=\u001b[0m \u001b[0mshapiro\u001b[0m\u001b[0;34m(\u001b[0m\u001b[0mdf_cal_average\u001b[0m\u001b[0;34m[\u001b[0m\u001b[0;34m'Calories'\u001b[0m\u001b[0;34m]\u001b[0m\u001b[0;34m)\u001b[0m\u001b[0;34m\u001b[0m\u001b[0;34m\u001b[0m\u001b[0m\n\u001b[0;32m----> 6\u001b[0;31m     \u001b[0mphnorm_cal_high\u001b[0m\u001b[0;34m=\u001b[0m \u001b[0mshapiro\u001b[0m\u001b[0;34m(\u001b[0m\u001b[0mdf_cal_high\u001b[0m\u001b[0;34m[\u001b[0m\u001b[0;34m'Calories'\u001b[0m\u001b[0;34m]\u001b[0m\u001b[0;34m)\u001b[0m\u001b[0;34m\u001b[0m\u001b[0;34m\u001b[0m\u001b[0m\n\u001b[0m\u001b[1;32m      7\u001b[0m \u001b[0;34m\u001b[0m\u001b[0m\n\u001b[1;32m      8\u001b[0m     \u001b[0mprint\u001b[0m\u001b[0;34m(\u001b[0m\u001b[0;34mf\"phnorm_low_cal: {phnorm_low_cal}\"\u001b[0m\u001b[0;34m,\u001b[0m \u001b[0;34mf\"phnorm_high_cal: {phnorm_cal_average}\"\u001b[0m\u001b[0;34m,\u001b[0m \u001b[0;34mf\"phnorm_high_cal: {phnorm_cal_high}\"\u001b[0m\u001b[0;34m,\u001b[0m \u001b[0msep\u001b[0m\u001b[0;34m=\u001b[0m\u001b[0;34m'\\n'\u001b[0m\u001b[0;34m)\u001b[0m\u001b[0;34m\u001b[0m\u001b[0;34m\u001b[0m\u001b[0m\n",
      "\u001b[0;32m/Library/Frameworks/Python.framework/Versions/3.7/lib/python3.7/site-packages/scipy/stats/morestats.py\u001b[0m in \u001b[0;36mshapiro\u001b[0;34m(x)\u001b[0m\n\u001b[1;32m   1747\u001b[0m     \u001b[0mN\u001b[0m \u001b[0;34m=\u001b[0m \u001b[0mlen\u001b[0m\u001b[0;34m(\u001b[0m\u001b[0mx\u001b[0m\u001b[0;34m)\u001b[0m\u001b[0;34m\u001b[0m\u001b[0;34m\u001b[0m\u001b[0m\n\u001b[1;32m   1748\u001b[0m     \u001b[0;32mif\u001b[0m \u001b[0mN\u001b[0m \u001b[0;34m<\u001b[0m \u001b[0;36m3\u001b[0m\u001b[0;34m:\u001b[0m\u001b[0;34m\u001b[0m\u001b[0;34m\u001b[0m\u001b[0m\n\u001b[0;32m-> 1749\u001b[0;31m         \u001b[0;32mraise\u001b[0m \u001b[0mValueError\u001b[0m\u001b[0;34m(\u001b[0m\u001b[0;34m\"Data must be at least length 3.\"\u001b[0m\u001b[0;34m)\u001b[0m\u001b[0;34m\u001b[0m\u001b[0;34m\u001b[0m\u001b[0m\n\u001b[0m\u001b[1;32m   1750\u001b[0m \u001b[0;34m\u001b[0m\u001b[0m\n\u001b[1;32m   1751\u001b[0m     \u001b[0ma\u001b[0m \u001b[0;34m=\u001b[0m \u001b[0mzeros\u001b[0m\u001b[0;34m(\u001b[0m\u001b[0mN\u001b[0m\u001b[0;34m,\u001b[0m \u001b[0;34m'f'\u001b[0m\u001b[0;34m)\u001b[0m\u001b[0;34m\u001b[0m\u001b[0;34m\u001b[0m\u001b[0m\n",
      "\u001b[0;31mValueError\u001b[0m: Data must be at least length 3."
     ]
    }
   ],
   "source": [
    "# just for check that the data is filtered correctly and normality distributed\n",
    "\n",
    "def check_normality():\n",
    "    phnorm_low_cal = shapiro(df_cal_low['Calories'])\n",
    "    phnorm_cal_average = shapiro(df_cal_average['Calories'])\n",
    "    phnorm_cal_high= shapiro(df_cal_high['Calories'])\n",
    "\n",
    "    print(f\"phnorm_low_cal: {phnorm_low_cal}\", f\"phnorm_high_cal: {phnorm_cal_average}\", f\"phnorm_high_cal: {phnorm_cal_high}\", sep='\\n')\n",
    "\n",
    "    print(f\"\\nFor phnorm_low_cal 'P-value' is greater or equal than 'alpha': {phnorm_low_cal[1] > 0.03}\", f\"For phnorm_high_cal 'P-value' is greater or equal than 'alpha': {phnorm_cal_average[1] > 0.03}\", f\"For phnorm_high_cal 'P-value' is greater or equal than 'alpha': {phnorm_cal_high[1] > 0.03}\", sep='\\n')\n",
    "check_normality()"
   ]
  },
  {
   "cell_type": "code",
   "execution_count": 13,
   "metadata": {},
   "outputs": [
    {
     "data": {
      "image/png": "[encoded data removed]",
      "text/plain": [
       "<Figure size 500x500 with 1 Axes>"
      ]
     },
     "metadata": {},
     "output_type": "display_data"
    },
    {
     "data": {
      "image/png": "[encoded data removed]",
      "text/plain": [
       "<Figure size 500x500 with 1 Axes>"
      ]
     },
     "metadata": {},
     "output_type": "display_data"
    },
    {
     "data": {
      "image/png": "[encoded data removed]",
      "text/plain": [
       "<Figure size 500x500 with 1 Axes>"
      ]
     },
     "metadata": {},
     "output_type": "display_data"
    }
   ],
   "source": [
    "def plot_data_hist():\n",
    "\n",
    "    sb.displot(df_cal_low['Calories'], color=\"red\", bins=5, kde=True) # bins is optional (it are class intervals) print \"probability curve\"\n",
    "    plt.title(\"Low Calories histogram and probability curve\")\n",
    "    plt.ylabel(\"Frequency\")\n",
    "    plt.xlabel(\"Calories\")\n",
    "    plt.show()\n",
    "\n",
    "    sb.displot(df_cal_average['Calories'], color=\"blue\", bins=5, kde=True)\n",
    "    plt.title(\"Average Calories histogram and probability curve\")\n",
    "    plt.ylabel(\"Frequency\")\n",
    "    plt.xlabel(\"Calories\")\n",
    "    plt.show()\n",
    "\n",
    "    sb.displot(df_cal_high['Calories'], color=\"green\", bins=5, kde=True)\n",
    "    plt.title(\"High Calories histogram and probability curve\")\n",
    "    plt.ylabel(\"Frequency\")\n",
    "    plt.xlabel(\"Calories\")\n",
    "    plt.show()\n",
    "\n",
    "    # As we can see, the data is normality distributed thanks to the prev transformation (Actividad 10: transformaciones)\n",
    "    \n",
    "plot_data_hist()"
   ]
  },
  {
   "cell_type": "code",
   "execution_count": 14,
   "metadata": {},
   "outputs": [
    {
     "data": {
      "application/vnd.plotly.v1+json": {
       "config": {
        "plotlyServerURL": "https://plot.ly"
       },
       "data": [
        {
         "alignmentgroup": "True",
         "boxpoints": "all",
         "hovertemplate": "variable=%{x}<br>value=%{y}<extra></extra>",
         "legendgroup": "",
         "marker": {
          "color": "#636efa"
         },
         "name": "",
         "notched": false,
         "offsetgroup": "",
         "orientation": "v",
         "showlegend": false,
         "type": "box",
         "x": [
          "Low calories",
          "Low calories",
          "Low calories",
          "Low calories",
          "Low calories",
          "Low calories",
          "Low calories",
          "Low calories",
          "Low calories",
          "Low calories",
          "Low calories",
          "Low calories",
          "Low calories",
          "Low calories",
          "Low calories",
          "Low calories",
          "Low calories",
          "Low calories",
          "Low calories",
          "Low calories",
          "Low calories",
          "Low calories",
          "Low calories",
          "Low calories",
          "Low calories",
          "Low calories",
          "Low calories",
          "Low calories",
          "Low calories",
          "Low calories",
          "Low calories",
          "Low calories",
          "Low calories",
          "Low calories",
          "Low calories",
          "Low calories",
          "Low calories",
          "Low calories",
          "Low calories",
          "Low calories",
          "Low calories",
          "Low calories",
          "Low calories",
          "Low calories",
          "Low calories",
          "Low calories",
          "Low calories",
          "Low calories",
          "Low calories",
          "Low calories",
          "Low calories",
          "Low calories",
          "Low calories",
          "Low calories",
          "Low calories",
          "Low calories",
          "Low calories",
          "Low calories",
          "Low calories",
          "Low calories",
          "Low calories",
          "Low calories",
          "Low calories",
          "Low calories",
          "Low calories",
          "Low calories",
          "Low calories",
          "Low calories",
          "Low calories",
          "Low calories",
          "Low calories",
          "Low calories",
          "Low calories",
          "Low calories",
          "Low calories",
          "Low calories",
          "Low calories",
          "Low calories",
          "Low calories",
          "Low calories",
          "Low calories",
          "Low calories",
          "Low calories",
          "Low calories",
          "Low calories",
          "Low calories",
          "Low calories",
          "Low calories",
          "Low calories",
          "Low calories",
          "Low calories",
          "Average calories",
          "Average calories",
          "Average calories",
          "Average calories",
          "Average calories",
          "Average calories",
          "Average calories",
          "Average calories",
          "Average calories",
          "Average calories",
          "Average calories",
          "Average calories",
          "Average calories",
          "Average calories",
          "Average calories",
          "Average calories",
          "Average calories",
          "Average calories",
          "Average calories",
          "Average calories",
          "Average calories",
          "Average calories",
          "Average calories",
          "Average calories",
          "Average calories",
          "Average calories",
          "Average calories",
          "Average calories",
          "Average calories",
          "Average calories",
          "Average calories",
          "Average calories",
          "Average calories",
          "Average calories",
          "Average calories",
          "Average calories",
          "Average calories",
          "Average calories",
          "Average calories",
          "Average calories",
          "Average calories",
          "Average calories",
          "Average calories",
          "Average calories",
          "Average calories",
          "Average calories",
          "Average calories",
          "Average calories",
          "Average calories",
          "Average calories",
          "Average calories",
          "Average calories",
          "Average calories",
          "Average calories",
          "Average calories",
          "Average calories",
          "Average calories",
          "Average calories",
          "Average calories",
          "Average calories",
          "Average calories",
          "Average calories",
          "Average calories",
          "Average calories",
          "Average calories",
          "Average calories",
          "Average calories",
          "Average calories",
          "Average calories",
          "Average calories",
          "Average calories",
          "Average calories",
          "Average calories",
          "Average calories",
          "Average calories",
          "Average calories",
          "Average calories",
          "Average calories",
          "Average calories",
          "Average calories",
          "Average calories",
          "Average calories",
          "Average calories",
          "Average calories",
          "Average calories",
          "Average calories",
          "Average calories",
          "Average calories",
          "Average calories",
          "Average calories",
          "Average calories",
          "High calories",
          "High calories",
          "High calories",
          "High calories",
          "High calories",
          "High calories",
          "High calories",
          "High calories",
          "High calories",
          "High calories",
          "High calories",
          "High calories",
          "High calories",
          "High calories",
          "High calories",
          "High calories",
          "High calories",
          "High calories",
          "High calories",
          "High calories",
          "High calories",
          "High calories",
          "High calories",
          "High calories",
          "High calories",
          "High calories",
          "High calories",
          "High calories",
          "High calories",
          "High calories",
          "High calories",
          "High calories",
          "High calories",
          "High calories",
          "High calories",
          "High calories",
          "High calories",
          "High calories",
          "High calories",
          "High calories",
          "High calories",
          "High calories",
          "High calories",
          "High calories",
          "High calories",
          "High calories",
          "High calories",
          "High calories",
          "High calories",
          "High calories",
          "High calories",
          "High calories",
          "High calories",
          "High calories",
          "High calories",
          "High calories",
          "High calories",
          "High calories",
          "High calories",
          "High calories",
          "High calories",
          "High calories",
          "High calories",
          "High calories",
          "High calories",
          "High calories",
          "High calories",
          "High calories",
          "High calories",
          "High calories",
          "High calories",
          "High calories",
          "High calories",
          "High calories",
          "High calories",
          "High calories",
          "High calories",
          "High calories",
          "High calories",
          "High calories",
          "High calories",
          "High calories",
          "High calories",
          "High calories",
          "High calories",
          "High calories",
          "High calories",
          "High calories",
          "High calories",
          "High calories",
          "High calories"
         ],
         "x0": " ",
         "xaxis": "x",
         "y": [
          61.3375,
          56.5156,
          60.6808,
          56.6705,
          57.6466,
          73.0291,
          67.3755,
          60.8057,
          59.7983,
          62.9359,
          64.6879,
          39.4713,
          49.5242,
          null,
          37.3273,
          43.2452,
          42.7942,
          49.3885,
          39.4713,
          43.8471,
          null,
          null,
          50.3073,
          47.9137,
          57.4567,
          null,
          45.0484,
          70.8755,
          22.0751,
          22.0751,
          37.3273,
          22.0751,
          22.0751,
          22.0751,
          68.3012,
          45.6974,
          59.6892,
          43.5343,
          47.7728,
          45.6974,
          57.3805,
          50.5726,
          41.2128,
          45.6727,
          52.0893,
          48.8185,
          47.7728,
          62.9873,
          38.8213,
          45.449,
          45.6974,
          39.7047,
          60.8591,
          45.6974,
          47.8198,
          57.247,
          45.1991,
          45.6974,
          49.9735,
          45.6727,
          44.8212,
          57.6466,
          58.4176,
          45.6974,
          45.6974,
          58.2119,
          54.3545,
          47.7728,
          54.2123,
          69.1359,
          52.1744,
          54.1716,
          47.7728,
          45.6974,
          45.6974,
          48.0542,
          69.1359,
          52.1744,
          54.1716,
          47.7728,
          45.6974,
          45.6974,
          48.0542,
          71.3063,
          52.1744,
          54.1716,
          47.7728,
          45.6974,
          45.6974,
          48.0542,
          71.3063,
          null,
          null,
          null,
          null,
          null,
          null,
          null,
          null,
          null,
          null,
          null,
          null,
          null,
          76.5854,
          null,
          null,
          null,
          null,
          null,
          null,
          74.8039,
          80.5648,
          null,
          null,
          null,
          null,
          null,
          null,
          null,
          null,
          null,
          null,
          null,
          null,
          null,
          null,
          null,
          null,
          null,
          null,
          null,
          null,
          null,
          null,
          null,
          null,
          null,
          null,
          null,
          null,
          null,
          null,
          null,
          null,
          null,
          null,
          null,
          null,
          null,
          null,
          null,
          null,
          null,
          null,
          null,
          null,
          null,
          null,
          null,
          null,
          null,
          null,
          null,
          null,
          null,
          null,
          null,
          null,
          null,
          null,
          null,
          null,
          null,
          null,
          null,
          null,
          null,
          null,
          null,
          null,
          null,
          null,
          null,
          null,
          null,
          null,
          null,
          null,
          null,
          null,
          null,
          null,
          null,
          null,
          null,
          null,
          null,
          null,
          null,
          null,
          null,
          null,
          null,
          null,
          null,
          null,
          84.5577,
          null,
          null,
          null,
          null,
          null,
          null,
          null,
          null,
          null,
          null,
          null,
          null,
          null,
          null,
          null,
          null,
          null,
          null,
          null,
          null,
          null,
          null,
          null,
          null,
          null,
          null,
          null,
          null,
          null,
          null,
          null,
          null,
          null,
          null,
          null,
          null,
          null,
          null,
          null,
          null,
          null,
          null,
          null,
          null,
          null,
          null,
          null,
          null,
          null,
          null,
          null,
          null,
          null,
          null,
          null,
          null,
          null,
          null,
          null,
          null,
          null,
          null,
          null,
          null,
          null
         ],
         "y0": " ",
         "yaxis": "y"
        }
       ],
       "layout": {
        "boxmode": "group",
        "legend": {
         "tracegroupgap": 0
        },
        "margin": {
         "t": 60
        },
        "template": {
         "data": {
          "bar": [
           {
            "error_x": {
             "color": "#2a3f5f"
            },
            "error_y": {
             "color": "#2a3f5f"
            },
            "marker": {
             "line": {
              "color": "#E5ECF6",
              "width": 0.5
             },
             "pattern": {
              "fillmode": "overlay",
              "size": 10,
              "solidity": 0.2
             }
            },
            "type": "bar"
           }
          ],
          "barpolar": [
           {
            "marker": {
             "line": {
              "color": "#E5ECF6",
              "width": 0.5
             },
             "pattern": {
              "fillmode": "overlay",
              "size": 10,
              "solidity": 0.2
             }
            },
            "type": "barpolar"
           }
          ],
          "carpet": [
           {
            "aaxis": {
             "endlinecolor": "#2a3f5f",
             "gridcolor": "white",
             "linecolor": "white",
             "minorgridcolor": "white",
             "startlinecolor": "#2a3f5f"
            },
            "baxis": {
             "endlinecolor": "#2a3f5f",
             "gridcolor": "white",
             "linecolor": "white",
             "minorgridcolor": "white",
             "startlinecolor": "#2a3f5f"
            },
            "type": "carpet"
           }
          ],
          "choropleth": [
           {
            "colorbar": {
             "outlinewidth": 0,
             "ticks": ""
            },
            "type": "choropleth"
           }
          ],
          "contour": [
           {
            "colorbar": {
             "outlinewidth": 0,
             "ticks": ""
            },
            "colorscale": [
             [
              0,
              "#0d0887"
             ],
             [
              0.1111111111111111,
              "#46039f"
             ],
             [
              0.2222222222222222,
              "#7201a8"
             ],
             [
              0.3333333333333333,
              "#9c179e"
             ],
             [
              0.4444444444444444,
              "#bd3786"
             ],
             [
              0.5555555555555556,
              "#d8576b"
             ],
             [
              0.6666666666666666,
              "#ed7953"
             ],
             [
              0.7777777777777778,
              "#fb9f3a"
             ],
             [
              0.8888888888888888,
              "#fdca26"
             ],
             [
              1,
              "#f0f921"
             ]
            ],
            "type": "contour"
           }
          ],
          "contourcarpet": [
           {
            "colorbar": {
             "outlinewidth": 0,
             "ticks": ""
            },
            "type": "contourcarpet"
           }
          ],
          "heatmap": [
           {
            "colorbar": {
             "outlinewidth": 0,
             "ticks": ""
            },
            "colorscale": [
             [
              0,
              "#0d0887"
             ],
             [
              0.1111111111111111,
              "#46039f"
             ],
             [
              0.2222222222222222,
              "#7201a8"
             ],
             [
              0.3333333333333333,
              "#9c179e"
             ],
             [
              0.4444444444444444,
              "#bd3786"
             ],
             [
              0.5555555555555556,
              "#d8576b"
             ],
             [
              0.6666666666666666,
              "#ed7953"
             ],
             [
              0.7777777777777778,
              "#fb9f3a"
             ],
             [
              0.8888888888888888,
              "#fdca26"
             ],
             [
              1,
              "#f0f921"
             ]
            ],
            "type": "heatmap"
           }
          ],
          "heatmapgl": [
           {
            "colorbar": {
             "outlinewidth": 0,
             "ticks": ""
            },
            "colorscale": [
             [
              0,
              "#0d0887"
             ],
             [
              0.1111111111111111,
              "#46039f"
             ],
             [
              0.2222222222222222,
              "#7201a8"
             ],
             [
              0.3333333333333333,
              "#9c179e"
             ],
             [
              0.4444444444444444,
              "#bd3786"
             ],
             [
              0.5555555555555556,
              "#d8576b"
             ],
             [
              0.6666666666666666,
              "#ed7953"
             ],
             [
              0.7777777777777778,
              "#fb9f3a"
             ],
             [
              0.8888888888888888,
              "#fdca26"
             ],
             [
              1,
              "#f0f921"
             ]
            ],
            "type": "heatmapgl"
           }
          ],
          "histogram": [
           {
            "marker": {
             "pattern": {
              "fillmode": "overlay",
              "size": 10,
              "solidity": 0.2
             }
            },
            "type": "histogram"
           }
          ],
          "histogram2d": [
           {
            "colorbar": {
             "outlinewidth": 0,
             "ticks": ""
            },
            "colorscale": [
             [
              0,
              "#0d0887"
             ],
             [
              0.1111111111111111,
              "#46039f"
             ],
             [
              0.2222222222222222,
              "#7201a8"
             ],
             [
              0.3333333333333333,
              "#9c179e"
             ],
             [
              0.4444444444444444,
              "#bd3786"
             ],
             [
              0.5555555555555556,
              "#d8576b"
             ],
             [
              0.6666666666666666,
              "#ed7953"
             ],
             [
              0.7777777777777778,
              "#fb9f3a"
             ],
             [
              0.8888888888888888,
              "#fdca26"
             ],
             [
              1,
              "#f0f921"
             ]
            ],
            "type": "histogram2d"
           }
          ],
          "histogram2dcontour": [
           {
            "colorbar": {
             "outlinewidth": 0,
             "ticks": ""
            },
            "colorscale": [
             [
              0,
              "#0d0887"
             ],
             [
              0.1111111111111111,
              "#46039f"
             ],
             [
              0.2222222222222222,
              "#7201a8"
             ],
             [
              0.3333333333333333,
              "#9c179e"
             ],
             [
              0.4444444444444444,
              "#bd3786"
             ],
             [
              0.5555555555555556,
              "#d8576b"
             ],
             [
              0.6666666666666666,
              "#ed7953"
             ],
             [
              0.7777777777777778,
              "#fb9f3a"
             ],
             [
              0.8888888888888888,
              "#fdca26"
             ],
             [
              1,
              "#f0f921"
             ]
            ],
            "type": "histogram2dcontour"
           }
          ],
          "mesh3d": [
           {
            "colorbar": {
             "outlinewidth": 0,
             "ticks": ""
            },
            "type": "mesh3d"
           }
          ],
          "parcoords": [
           {
            "line": {
             "colorbar": {
              "outlinewidth": 0,
              "ticks": ""
             }
            },
            "type": "parcoords"
           }
          ],
          "pie": [
           {
            "automargin": true,
            "type": "pie"
           }
          ],
          "scatter": [
           {
            "fillpattern": {
             "fillmode": "overlay",
             "size": 10,
             "solidity": 0.2
            },
            "type": "scatter"
           }
          ],
          "scatter3d": [
           {
            "line": {
             "colorbar": {
              "outlinewidth": 0,
              "ticks": ""
             }
            },
            "marker": {
             "colorbar": {
              "outlinewidth": 0,
              "ticks": ""
             }
            },
            "type": "scatter3d"
           }
          ],
          "scattercarpet": [
           {
            "marker": {
             "colorbar": {
              "outlinewidth": 0,
              "ticks": ""
             }
            },
            "type": "scattercarpet"
           }
          ],
          "scattergeo": [
           {
            "marker": {
             "colorbar": {
              "outlinewidth": 0,
              "ticks": ""
             }
            },
            "type": "scattergeo"
           }
          ],
          "scattergl": [
           {
            "marker": {
             "colorbar": {
              "outlinewidth": 0,
              "ticks": ""
             }
            },
            "type": "scattergl"
           }
          ],
          "scattermapbox": [
           {
            "marker": {
             "colorbar": {
              "outlinewidth": 0,
              "ticks": ""
             }
            },
            "type": "scattermapbox"
           }
          ],
          "scatterpolar": [
           {
            "marker": {
             "colorbar": {
              "outlinewidth": 0,
              "ticks": ""
             }
            },
            "type": "scatterpolar"
           }
          ],
          "scatterpolargl": [
           {
            "marker": {
             "colorbar": {
              "outlinewidth": 0,
              "ticks": ""
             }
            },
            "type": "scatterpolargl"
           }
          ],
          "scatterternary": [
           {
            "marker": {
             "colorbar": {
              "outlinewidth": 0,
              "ticks": ""
             }
            },
            "type": "scatterternary"
           }
          ],
          "surface": [
           {
            "colorbar": {
             "outlinewidth": 0,
             "ticks": ""
            },
            "colorscale": [
             [
              0,
              "#0d0887"
             ],
             [
              0.1111111111111111,
              "#46039f"
             ],
             [
              0.2222222222222222,
              "#7201a8"
             ],
             [
              0.3333333333333333,
              "#9c179e"
             ],
             [
              0.4444444444444444,
              "#bd3786"
             ],
             [
              0.5555555555555556,
              "#d8576b"
             ],
             [
              0.6666666666666666,
              "#ed7953"
             ],
             [
              0.7777777777777778,
              "#fb9f3a"
             ],
             [
              0.8888888888888888,
              "#fdca26"
             ],
             [
              1,
              "#f0f921"
             ]
            ],
            "type": "surface"
           }
          ],
          "table": [
           {
            "cells": {
             "fill": {
              "color": "#EBF0F8"
             },
             "line": {
              "color": "white"
             }
            },
            "header": {
             "fill": {
              "color": "#C8D4E3"
             },
             "line": {
              "color": "white"
             }
            },
            "type": "table"
           }
          ]
         },
         "layout": {
          "annotationdefaults": {
           "arrowcolor": "#2a3f5f",
           "arrowhead": 0,
           "arrowwidth": 1
          },
          "autotypenumbers": "strict",
          "coloraxis": {
           "colorbar": {
            "outlinewidth": 0,
            "ticks": ""
           }
          },
          "colorscale": {
           "diverging": [
            [
             0,
             "#8e0152"
            ],
            [
             0.1,
             "#c51b7d"
            ],
            [
             0.2,
             "#de77ae"
            ],
            [
             0.3,
             "#f1b6da"
            ],
            [
             0.4,
             "#fde0ef"
            ],
            [
             0.5,
             "#f7f7f7"
            ],
            [
             0.6,
             "#e6f5d0"
            ],
            [
             0.7,
             "#b8e186"
            ],
            [
             0.8,
             "#7fbc41"
            ],
            [
             0.9,
             "#4d9221"
            ],
            [
             1,
             "#276419"
            ]
           ],
           "sequential": [
            [
             0,
             "#0d0887"
            ],
            [
             0.1111111111111111,
             "#46039f"
            ],
            [
             0.2222222222222222,
             "#7201a8"
            ],
            [
             0.3333333333333333,
             "#9c179e"
            ],
            [
             0.4444444444444444,
             "#bd3786"
            ],
            [
             0.5555555555555556,
             "#d8576b"
            ],
            [
             0.6666666666666666,
             "#ed7953"
            ],
            [
             0.7777777777777778,
             "#fb9f3a"
            ],
            [
             0.8888888888888888,
             "#fdca26"
            ],
            [
             1,
             "#f0f921"
            ]
           ],
           "sequentialminus": [
            [
             0,
             "#0d0887"
            ],
            [
             0.1111111111111111,
             "#46039f"
            ],
            [
             0.2222222222222222,
             "#7201a8"
            ],
            [
             0.3333333333333333,
             "#9c179e"
            ],
            [
             0.4444444444444444,
             "#bd3786"
            ],
            [
             0.5555555555555556,
             "#d8576b"
            ],
            [
             0.6666666666666666,
             "#ed7953"
            ],
            [
             0.7777777777777778,
             "#fb9f3a"
            ],
            [
             0.8888888888888888,
             "#fdca26"
            ],
            [
             1,
             "#f0f921"
            ]
           ]
          },
          "colorway": [
           "#636efa",
           "#EF553B",
           "#00cc96",
           "#ab63fa",
           "#FFA15A",
           "#19d3f3",
           "#FF6692",
           "#B6E880",
           "#FF97FF",
           "#FECB52"
          ],
          "font": {
           "color": "#2a3f5f"
          },
          "geo": {
           "bgcolor": "white",
           "lakecolor": "white",
           "landcolor": "#E5ECF6",
           "showlakes": true,
           "showland": true,
           "subunitcolor": "white"
          },
          "hoverlabel": {
           "align": "left"
          },
          "hovermode": "closest",
          "mapbox": {
           "style": "light"
          },
          "paper_bgcolor": "white",
          "plot_bgcolor": "#E5ECF6",
          "polar": {
           "angularaxis": {
            "gridcolor": "white",
            "linecolor": "white",
            "ticks": ""
           },
           "bgcolor": "#E5ECF6",
           "radialaxis": {
            "gridcolor": "white",
            "linecolor": "white",
            "ticks": ""
           }
          },
          "scene": {
           "xaxis": {
            "backgroundcolor": "#E5ECF6",
            "gridcolor": "white",
            "gridwidth": 2,
            "linecolor": "white",
            "showbackground": true,
            "ticks": "",
            "zerolinecolor": "white"
           },
           "yaxis": {
            "backgroundcolor": "#E5ECF6",
            "gridcolor": "white",
            "gridwidth": 2,
            "linecolor": "white",
            "showbackground": true,
            "ticks": "",
            "zerolinecolor": "white"
           },
           "zaxis": {
            "backgroundcolor": "#E5ECF6",
            "gridcolor": "white",
            "gridwidth": 2,
            "linecolor": "white",
            "showbackground": true,
            "ticks": "",
            "zerolinecolor": "white"
           }
          },
          "shapedefaults": {
           "line": {
            "color": "#2a3f5f"
           }
          },
          "ternary": {
           "aaxis": {
            "gridcolor": "white",
            "linecolor": "white",
            "ticks": ""
           },
           "baxis": {
            "gridcolor": "white",
            "linecolor": "white",
            "ticks": ""
           },
           "bgcolor": "#E5ECF6",
           "caxis": {
            "gridcolor": "white",
            "linecolor": "white",
            "ticks": ""
           }
          },
          "title": {
           "x": 0.05
          },
          "xaxis": {
           "automargin": true,
           "gridcolor": "white",
           "linecolor": "white",
           "ticks": "",
           "title": {
            "standoff": 15
           },
           "zerolinecolor": "white",
           "zerolinewidth": 2
          },
          "yaxis": {
           "automargin": true,
           "gridcolor": "white",
           "linecolor": "white",
           "ticks": "",
           "title": {
            "standoff": 15
           },
           "zerolinecolor": "white",
           "zerolinewidth": 2
          }
         }
        },
        "xaxis": {
         "anchor": "y",
         "domain": [
          0,
          1
         ],
         "title": {
          "text": "variable"
         }
        },
        "yaxis": {
         "anchor": "x",
         "domain": [
          0,
          1
         ],
         "title": {
          "text": "value"
         }
        }
       }
      }
     },
     "metadata": {},
     "output_type": "display_data"
    }
   ],
   "source": [
    "def plot_data_box():\n",
    "    df = pd.DataFrame({'Low calories': df_cal_low['Calories'], 'Average calories': df_cal_average['Calories'], 'High calories': df_cal_high['Calories']})\n",
    "    fig = px.box(df, points=\"all\")\n",
    "    fig.show()\n",
    "\n",
    "    # as we can see, the chart show us a really notable difference between the three groups\n",
    "\n",
    "plot_data_box()"
   ]
  },
  {
   "cell_type": "markdown",
   "metadata": {},
   "source": [
    "-   Verifica si hay igualdad de varianzas entre los grupos calóricos considerados. Recuerda que en Python deberás aplicar la prueba de hipótesis de Lavene, mientras que en R y Minitab® tienes las dos opciones disponibles (intervalos y prueba de hipótesis). Considera una confianza del 97%, es decir, un nivel de significancia (probabilidad de equivocarse) del 3%.\n"
   ]
  },
  {
   "cell_type": "code",
   "execution_count": 15,
   "metadata": {},
   "outputs": [
    {
     "data": {
      "text/html": [
       "<div>\n",
       "<style scoped>\n",
       "    .dataframe tbody tr th:only-of-type {\n",
       "        vertical-align: middle;\n",
       "    }\n",
       "\n",
       "    .dataframe tbody tr th {\n",
       "        vertical-align: top;\n",
       "    }\n",
       "\n",
       "    .dataframe thead th {\n",
       "        text-align: right;\n",
       "    }\n",
       "</style>\n",
       "<table border=\"1\" class=\"dataframe\">\n",
       "  <thead>\n",
       "    <tr style=\"text-align: right;\">\n",
       "      <th></th>\n",
       "      <th>Low calories</th>\n",
       "      <th>High calories</th>\n",
       "    </tr>\n",
       "  </thead>\n",
       "  <tbody>\n",
       "    <tr>\n",
       "      <th>0</th>\n",
       "      <td>61.3375</td>\n",
       "      <td>NaN</td>\n",
       "    </tr>\n",
       "    <tr>\n",
       "      <th>1</th>\n",
       "      <td>56.5156</td>\n",
       "      <td>NaN</td>\n",
       "    </tr>\n",
       "    <tr>\n",
       "      <th>2</th>\n",
       "      <td>60.6808</td>\n",
       "      <td>NaN</td>\n",
       "    </tr>\n",
       "    <tr>\n",
       "      <th>3</th>\n",
       "      <td>56.6705</td>\n",
       "      <td>NaN</td>\n",
       "    </tr>\n",
       "    <tr>\n",
       "      <th>4</th>\n",
       "      <td>57.6466</td>\n",
       "      <td>NaN</td>\n",
       "    </tr>\n",
       "    <tr>\n",
       "      <th>5</th>\n",
       "      <td>73.0291</td>\n",
       "      <td>NaN</td>\n",
       "    </tr>\n",
       "    <tr>\n",
       "      <th>6</th>\n",
       "      <td>67.3755</td>\n",
       "      <td>NaN</td>\n",
       "    </tr>\n",
       "    <tr>\n",
       "      <th>7</th>\n",
       "      <td>60.8057</td>\n",
       "      <td>NaN</td>\n",
       "    </tr>\n",
       "    <tr>\n",
       "      <th>8</th>\n",
       "      <td>59.7983</td>\n",
       "      <td>NaN</td>\n",
       "    </tr>\n",
       "    <tr>\n",
       "      <th>9</th>\n",
       "      <td>62.9359</td>\n",
       "      <td>NaN</td>\n",
       "    </tr>\n",
       "    <tr>\n",
       "      <th>10</th>\n",
       "      <td>64.6879</td>\n",
       "      <td>NaN</td>\n",
       "    </tr>\n",
       "    <tr>\n",
       "      <th>11</th>\n",
       "      <td>39.4713</td>\n",
       "      <td>NaN</td>\n",
       "    </tr>\n",
       "    <tr>\n",
       "      <th>12</th>\n",
       "      <td>49.5242</td>\n",
       "      <td>NaN</td>\n",
       "    </tr>\n",
       "    <tr>\n",
       "      <th>14</th>\n",
       "      <td>37.3273</td>\n",
       "      <td>NaN</td>\n",
       "    </tr>\n",
       "    <tr>\n",
       "      <th>15</th>\n",
       "      <td>43.2452</td>\n",
       "      <td>NaN</td>\n",
       "    </tr>\n",
       "    <tr>\n",
       "      <th>16</th>\n",
       "      <td>42.7942</td>\n",
       "      <td>NaN</td>\n",
       "    </tr>\n",
       "    <tr>\n",
       "      <th>17</th>\n",
       "      <td>49.3885</td>\n",
       "      <td>NaN</td>\n",
       "    </tr>\n",
       "    <tr>\n",
       "      <th>18</th>\n",
       "      <td>39.4713</td>\n",
       "      <td>NaN</td>\n",
       "    </tr>\n",
       "    <tr>\n",
       "      <th>19</th>\n",
       "      <td>43.8471</td>\n",
       "      <td>NaN</td>\n",
       "    </tr>\n",
       "    <tr>\n",
       "      <th>22</th>\n",
       "      <td>50.3073</td>\n",
       "      <td>NaN</td>\n",
       "    </tr>\n",
       "    <tr>\n",
       "      <th>23</th>\n",
       "      <td>47.9137</td>\n",
       "      <td>NaN</td>\n",
       "    </tr>\n",
       "    <tr>\n",
       "      <th>24</th>\n",
       "      <td>57.4567</td>\n",
       "      <td>NaN</td>\n",
       "    </tr>\n",
       "    <tr>\n",
       "      <th>25</th>\n",
       "      <td>NaN</td>\n",
       "      <td>84.5577</td>\n",
       "    </tr>\n",
       "    <tr>\n",
       "      <th>26</th>\n",
       "      <td>45.0484</td>\n",
       "      <td>NaN</td>\n",
       "    </tr>\n",
       "    <tr>\n",
       "      <th>27</th>\n",
       "      <td>70.8755</td>\n",
       "      <td>NaN</td>\n",
       "    </tr>\n",
       "    <tr>\n",
       "      <th>28</th>\n",
       "      <td>22.0751</td>\n",
       "      <td>NaN</td>\n",
       "    </tr>\n",
       "    <tr>\n",
       "      <th>29</th>\n",
       "      <td>22.0751</td>\n",
       "      <td>NaN</td>\n",
       "    </tr>\n",
       "    <tr>\n",
       "      <th>30</th>\n",
       "      <td>37.3273</td>\n",
       "      <td>NaN</td>\n",
       "    </tr>\n",
       "    <tr>\n",
       "      <th>31</th>\n",
       "      <td>22.0751</td>\n",
       "      <td>NaN</td>\n",
       "    </tr>\n",
       "    <tr>\n",
       "      <th>32</th>\n",
       "      <td>22.0751</td>\n",
       "      <td>NaN</td>\n",
       "    </tr>\n",
       "    <tr>\n",
       "      <th>33</th>\n",
       "      <td>22.0751</td>\n",
       "      <td>NaN</td>\n",
       "    </tr>\n",
       "    <tr>\n",
       "      <th>34</th>\n",
       "      <td>68.3012</td>\n",
       "      <td>NaN</td>\n",
       "    </tr>\n",
       "    <tr>\n",
       "      <th>35</th>\n",
       "      <td>45.6974</td>\n",
       "      <td>NaN</td>\n",
       "    </tr>\n",
       "    <tr>\n",
       "      <th>36</th>\n",
       "      <td>59.6892</td>\n",
       "      <td>NaN</td>\n",
       "    </tr>\n",
       "    <tr>\n",
       "      <th>37</th>\n",
       "      <td>43.5343</td>\n",
       "      <td>NaN</td>\n",
       "    </tr>\n",
       "    <tr>\n",
       "      <th>38</th>\n",
       "      <td>47.7728</td>\n",
       "      <td>NaN</td>\n",
       "    </tr>\n",
       "    <tr>\n",
       "      <th>39</th>\n",
       "      <td>45.6974</td>\n",
       "      <td>NaN</td>\n",
       "    </tr>\n",
       "    <tr>\n",
       "      <th>40</th>\n",
       "      <td>57.3805</td>\n",
       "      <td>NaN</td>\n",
       "    </tr>\n",
       "    <tr>\n",
       "      <th>41</th>\n",
       "      <td>50.5726</td>\n",
       "      <td>NaN</td>\n",
       "    </tr>\n",
       "    <tr>\n",
       "      <th>42</th>\n",
       "      <td>41.2128</td>\n",
       "      <td>NaN</td>\n",
       "    </tr>\n",
       "    <tr>\n",
       "      <th>43</th>\n",
       "      <td>45.6727</td>\n",
       "      <td>NaN</td>\n",
       "    </tr>\n",
       "    <tr>\n",
       "      <th>44</th>\n",
       "      <td>52.0893</td>\n",
       "      <td>NaN</td>\n",
       "    </tr>\n",
       "    <tr>\n",
       "      <th>45</th>\n",
       "      <td>48.8185</td>\n",
       "      <td>NaN</td>\n",
       "    </tr>\n",
       "    <tr>\n",
       "      <th>46</th>\n",
       "      <td>47.7728</td>\n",
       "      <td>NaN</td>\n",
       "    </tr>\n",
       "    <tr>\n",
       "      <th>47</th>\n",
       "      <td>62.9873</td>\n",
       "      <td>NaN</td>\n",
       "    </tr>\n",
       "    <tr>\n",
       "      <th>48</th>\n",
       "      <td>38.8213</td>\n",
       "      <td>NaN</td>\n",
       "    </tr>\n",
       "    <tr>\n",
       "      <th>49</th>\n",
       "      <td>45.4490</td>\n",
       "      <td>NaN</td>\n",
       "    </tr>\n",
       "    <tr>\n",
       "      <th>50</th>\n",
       "      <td>45.6974</td>\n",
       "      <td>NaN</td>\n",
       "    </tr>\n",
       "    <tr>\n",
       "      <th>51</th>\n",
       "      <td>39.7047</td>\n",
       "      <td>NaN</td>\n",
       "    </tr>\n",
       "    <tr>\n",
       "      <th>52</th>\n",
       "      <td>60.8591</td>\n",
       "      <td>NaN</td>\n",
       "    </tr>\n",
       "    <tr>\n",
       "      <th>53</th>\n",
       "      <td>45.6974</td>\n",
       "      <td>NaN</td>\n",
       "    </tr>\n",
       "    <tr>\n",
       "      <th>54</th>\n",
       "      <td>47.8198</td>\n",
       "      <td>NaN</td>\n",
       "    </tr>\n",
       "    <tr>\n",
       "      <th>55</th>\n",
       "      <td>57.2470</td>\n",
       "      <td>NaN</td>\n",
       "    </tr>\n",
       "    <tr>\n",
       "      <th>56</th>\n",
       "      <td>45.1991</td>\n",
       "      <td>NaN</td>\n",
       "    </tr>\n",
       "    <tr>\n",
       "      <th>57</th>\n",
       "      <td>45.6974</td>\n",
       "      <td>NaN</td>\n",
       "    </tr>\n",
       "    <tr>\n",
       "      <th>58</th>\n",
       "      <td>49.9735</td>\n",
       "      <td>NaN</td>\n",
       "    </tr>\n",
       "    <tr>\n",
       "      <th>59</th>\n",
       "      <td>45.6727</td>\n",
       "      <td>NaN</td>\n",
       "    </tr>\n",
       "    <tr>\n",
       "      <th>60</th>\n",
       "      <td>44.8212</td>\n",
       "      <td>NaN</td>\n",
       "    </tr>\n",
       "    <tr>\n",
       "      <th>61</th>\n",
       "      <td>57.6466</td>\n",
       "      <td>NaN</td>\n",
       "    </tr>\n",
       "    <tr>\n",
       "      <th>62</th>\n",
       "      <td>58.4176</td>\n",
       "      <td>NaN</td>\n",
       "    </tr>\n",
       "    <tr>\n",
       "      <th>63</th>\n",
       "      <td>45.6974</td>\n",
       "      <td>NaN</td>\n",
       "    </tr>\n",
       "    <tr>\n",
       "      <th>64</th>\n",
       "      <td>45.6974</td>\n",
       "      <td>NaN</td>\n",
       "    </tr>\n",
       "    <tr>\n",
       "      <th>65</th>\n",
       "      <td>58.2119</td>\n",
       "      <td>NaN</td>\n",
       "    </tr>\n",
       "    <tr>\n",
       "      <th>66</th>\n",
       "      <td>54.3545</td>\n",
       "      <td>NaN</td>\n",
       "    </tr>\n",
       "    <tr>\n",
       "      <th>67</th>\n",
       "      <td>47.7728</td>\n",
       "      <td>NaN</td>\n",
       "    </tr>\n",
       "    <tr>\n",
       "      <th>68</th>\n",
       "      <td>54.2123</td>\n",
       "      <td>NaN</td>\n",
       "    </tr>\n",
       "    <tr>\n",
       "      <th>69</th>\n",
       "      <td>69.1359</td>\n",
       "      <td>NaN</td>\n",
       "    </tr>\n",
       "    <tr>\n",
       "      <th>70</th>\n",
       "      <td>52.1744</td>\n",
       "      <td>NaN</td>\n",
       "    </tr>\n",
       "    <tr>\n",
       "      <th>71</th>\n",
       "      <td>54.1716</td>\n",
       "      <td>NaN</td>\n",
       "    </tr>\n",
       "    <tr>\n",
       "      <th>72</th>\n",
       "      <td>47.7728</td>\n",
       "      <td>NaN</td>\n",
       "    </tr>\n",
       "    <tr>\n",
       "      <th>73</th>\n",
       "      <td>45.6974</td>\n",
       "      <td>NaN</td>\n",
       "    </tr>\n",
       "    <tr>\n",
       "      <th>74</th>\n",
       "      <td>45.6974</td>\n",
       "      <td>NaN</td>\n",
       "    </tr>\n",
       "    <tr>\n",
       "      <th>75</th>\n",
       "      <td>48.0542</td>\n",
       "      <td>NaN</td>\n",
       "    </tr>\n",
       "    <tr>\n",
       "      <th>76</th>\n",
       "      <td>69.1359</td>\n",
       "      <td>NaN</td>\n",
       "    </tr>\n",
       "    <tr>\n",
       "      <th>77</th>\n",
       "      <td>52.1744</td>\n",
       "      <td>NaN</td>\n",
       "    </tr>\n",
       "    <tr>\n",
       "      <th>78</th>\n",
       "      <td>54.1716</td>\n",
       "      <td>NaN</td>\n",
       "    </tr>\n",
       "    <tr>\n",
       "      <th>79</th>\n",
       "      <td>47.7728</td>\n",
       "      <td>NaN</td>\n",
       "    </tr>\n",
       "    <tr>\n",
       "      <th>80</th>\n",
       "      <td>45.6974</td>\n",
       "      <td>NaN</td>\n",
       "    </tr>\n",
       "    <tr>\n",
       "      <th>81</th>\n",
       "      <td>45.6974</td>\n",
       "      <td>NaN</td>\n",
       "    </tr>\n",
       "    <tr>\n",
       "      <th>82</th>\n",
       "      <td>48.0542</td>\n",
       "      <td>NaN</td>\n",
       "    </tr>\n",
       "    <tr>\n",
       "      <th>83</th>\n",
       "      <td>71.3063</td>\n",
       "      <td>NaN</td>\n",
       "    </tr>\n",
       "    <tr>\n",
       "      <th>84</th>\n",
       "      <td>52.1744</td>\n",
       "      <td>NaN</td>\n",
       "    </tr>\n",
       "    <tr>\n",
       "      <th>85</th>\n",
       "      <td>54.1716</td>\n",
       "      <td>NaN</td>\n",
       "    </tr>\n",
       "    <tr>\n",
       "      <th>86</th>\n",
       "      <td>47.7728</td>\n",
       "      <td>NaN</td>\n",
       "    </tr>\n",
       "    <tr>\n",
       "      <th>87</th>\n",
       "      <td>45.6974</td>\n",
       "      <td>NaN</td>\n",
       "    </tr>\n",
       "    <tr>\n",
       "      <th>88</th>\n",
       "      <td>45.6974</td>\n",
       "      <td>NaN</td>\n",
       "    </tr>\n",
       "    <tr>\n",
       "      <th>89</th>\n",
       "      <td>48.0542</td>\n",
       "      <td>NaN</td>\n",
       "    </tr>\n",
       "    <tr>\n",
       "      <th>90</th>\n",
       "      <td>71.3063</td>\n",
       "      <td>NaN</td>\n",
       "    </tr>\n",
       "  </tbody>\n",
       "</table>\n",
       "</div>"
      ],
      "text/plain": [
       "    Low calories  High calories\n",
       "0        61.3375            NaN\n",
       "1        56.5156            NaN\n",
       "2        60.6808            NaN\n",
       "3        56.6705            NaN\n",
       "4        57.6466            NaN\n",
       "5        73.0291            NaN\n",
       "6        67.3755            NaN\n",
       "7        60.8057            NaN\n",
       "8        59.7983            NaN\n",
       "9        62.9359            NaN\n",
       "10       64.6879            NaN\n",
       "11       39.4713            NaN\n",
       "12       49.5242            NaN\n",
       "14       37.3273            NaN\n",
       "15       43.2452            NaN\n",
       "16       42.7942            NaN\n",
       "17       49.3885            NaN\n",
       "18       39.4713            NaN\n",
       "19       43.8471            NaN\n",
       "22       50.3073            NaN\n",
       "23       47.9137            NaN\n",
       "24       57.4567            NaN\n",
       "25           NaN        84.5577\n",
       "26       45.0484            NaN\n",
       "27       70.8755            NaN\n",
       "28       22.0751            NaN\n",
       "29       22.0751            NaN\n",
       "30       37.3273            NaN\n",
       "31       22.0751            NaN\n",
       "32       22.0751            NaN\n",
       "33       22.0751            NaN\n",
       "34       68.3012            NaN\n",
       "35       45.6974            NaN\n",
       "36       59.6892            NaN\n",
       "37       43.5343            NaN\n",
       "38       47.7728            NaN\n",
       "39       45.6974            NaN\n",
       "40       57.3805            NaN\n",
       "41       50.5726            NaN\n",
       "42       41.2128            NaN\n",
       "43       45.6727            NaN\n",
       "44       52.0893            NaN\n",
       "45       48.8185            NaN\n",
       "46       47.7728            NaN\n",
       "47       62.9873            NaN\n",
       "48       38.8213            NaN\n",
       "49       45.4490            NaN\n",
       "50       45.6974            NaN\n",
       "51       39.7047            NaN\n",
       "52       60.8591            NaN\n",
       "53       45.6974            NaN\n",
       "54       47.8198            NaN\n",
       "55       57.2470            NaN\n",
       "56       45.1991            NaN\n",
       "57       45.6974            NaN\n",
       "58       49.9735            NaN\n",
       "59       45.6727            NaN\n",
       "60       44.8212            NaN\n",
       "61       57.6466            NaN\n",
       "62       58.4176            NaN\n",
       "63       45.6974            NaN\n",
       "64       45.6974            NaN\n",
       "65       58.2119            NaN\n",
       "66       54.3545            NaN\n",
       "67       47.7728            NaN\n",
       "68       54.2123            NaN\n",
       "69       69.1359            NaN\n",
       "70       52.1744            NaN\n",
       "71       54.1716            NaN\n",
       "72       47.7728            NaN\n",
       "73       45.6974            NaN\n",
       "74       45.6974            NaN\n",
       "75       48.0542            NaN\n",
       "76       69.1359            NaN\n",
       "77       52.1744            NaN\n",
       "78       54.1716            NaN\n",
       "79       47.7728            NaN\n",
       "80       45.6974            NaN\n",
       "81       45.6974            NaN\n",
       "82       48.0542            NaN\n",
       "83       71.3063            NaN\n",
       "84       52.1744            NaN\n",
       "85       54.1716            NaN\n",
       "86       47.7728            NaN\n",
       "87       45.6974            NaN\n",
       "88       45.6974            NaN\n",
       "89       48.0542            NaN\n",
       "90       71.3063            NaN"
      ]
     },
     "metadata": {},
     "output_type": "display_data"
    },
    {
     "data": {
      "text/plain": [
       "(88, 2)"
      ]
     },
     "metadata": {},
     "output_type": "display_data"
    },
    {
     "name": "stdout",
     "output_type": "stream",
     "text": [
      "(array([ 47.50207798,   7.3190325 ,   3.0400845 , 237.43696344]), array([ 52.71202776,   7.92142727,   3.34883504, 292.46729863]))\n"
     ]
    }
   ],
   "source": [
    "# As we can see both charts are different, let's see the confidence intervals for each group with 97% of confidence.\n",
    "def individual_interval_confidence_low():\n",
    "\n",
    "    # df only can compare two groups, so let's try with low and high  calories\n",
    "    low_high_df = pd.DataFrame({'Low calories': df_cal_low['Calories'], 'High calories': df_cal_high['Calories']})\n",
    "\n",
    "    pd.set_option('display.max_rows', None)\n",
    "    display(low_high_df)\n",
    "    display(low_high_df.shape)\n",
    "    \n",
    "    print(st.t.interval(\n",
    "        alpha=0.97, \n",
    "        df=len(df_cal_low) - 1,\n",
    "        loc=np.mean(df_cal_low),\n",
    "        scale=st.sem(df_cal_low)))\n",
    "\n",
    "individual_interval_confidence_low()\n"
   ]
  },
  {
   "cell_type": "code",
   "execution_count": 17,
   "metadata": {},
   "outputs": [
    {
     "ename": "AssertionError",
     "evalue": "The T-value must be a int or a float.",
     "output_type": "error",
     "traceback": [
      "\u001b[0;31m---------------------------------------------------------------------------\u001b[0m",
      "\u001b[0;31mAssertionError\u001b[0m                            Traceback (most recent call last)",
      "\u001b[0;32m/var/folders/3_/3p9dpmm16ybf58qzg7gcrgvc0000gn/T/ipykernel_24809/2742897796.py\u001b[0m in \u001b[0;36m<module>\u001b[0;34m\u001b[0m\n\u001b[1;32m      9\u001b[0m     \u001b[0mprint\u001b[0m\u001b[0;34m(\u001b[0m\u001b[0mic\u001b[0m\u001b[0;34m[\u001b[0m\u001b[0;34m'CI97%'\u001b[0m\u001b[0;34m]\u001b[0m\u001b[0;34m)\u001b[0m\u001b[0;34m\u001b[0m\u001b[0;34m\u001b[0m\u001b[0m\n\u001b[1;32m     10\u001b[0m \u001b[0;34m\u001b[0m\u001b[0m\n\u001b[0;32m---> 11\u001b[0;31m \u001b[0mgroup_interval_confidence\u001b[0m\u001b[0;34m(\u001b[0m\u001b[0;34m)\u001b[0m\u001b[0;34m\u001b[0m\u001b[0;34m\u001b[0m\u001b[0m\n\u001b[0m\u001b[1;32m     12\u001b[0m \u001b[0;34m\u001b[0m\u001b[0m\n\u001b[1;32m     13\u001b[0m \u001b[0;31m# la diferencia esta entre -47.928899213157294 y menos -25.858796865274062, signfiica que el promedio de bajas y altas es nagavito quiere decir que el promedio de bajas es mas chico que el de altas y por lo tanto consumo más calorias bajas que altas\u001b[0m\u001b[0;34m\u001b[0m\u001b[0;34m\u001b[0m\u001b[0;34m\u001b[0m\u001b[0m\n",
      "\u001b[0;32m/var/folders/3_/3p9dpmm16ybf58qzg7gcrgvc0000gn/T/ipykernel_24809/2742897796.py\u001b[0m in \u001b[0;36mgroup_interval_confidence\u001b[0;34m()\u001b[0m\n\u001b[1;32m      5\u001b[0m     \u001b[0mcal_high\u001b[0m \u001b[0;34m=\u001b[0m \u001b[0mdf_cal_high\u001b[0m\u001b[0;34m[\u001b[0m\u001b[0;34m'Calories'\u001b[0m\u001b[0;34m]\u001b[0m\u001b[0;34m\u001b[0m\u001b[0;34m\u001b[0m\u001b[0m\n\u001b[1;32m      6\u001b[0m \u001b[0;34m\u001b[0m\u001b[0m\n\u001b[0;32m----> 7\u001b[0;31m     \u001b[0mic\u001b[0m \u001b[0;34m=\u001b[0m \u001b[0mpg\u001b[0m\u001b[0;34m.\u001b[0m\u001b[0mttest\u001b[0m\u001b[0;34m(\u001b[0m\u001b[0mcal_low\u001b[0m\u001b[0;34m,\u001b[0m \u001b[0mcal_high\u001b[0m\u001b[0;34m,\u001b[0m \u001b[0mpaired\u001b[0m\u001b[0;34m=\u001b[0m\u001b[0;32mFalse\u001b[0m\u001b[0;34m,\u001b[0m \u001b[0mconfidence\u001b[0m\u001b[0;34m=\u001b[0m\u001b[0;36m0.97\u001b[0m\u001b[0;34m)\u001b[0m\u001b[0;34m\u001b[0m\u001b[0;34m\u001b[0m\u001b[0m\n\u001b[0m\u001b[1;32m      8\u001b[0m     \u001b[0mprint\u001b[0m\u001b[0;34m(\u001b[0m\u001b[0mic\u001b[0m\u001b[0;34m.\u001b[0m\u001b[0mcolumns\u001b[0m\u001b[0;34m)\u001b[0m\u001b[0;34m\u001b[0m\u001b[0;34m\u001b[0m\u001b[0m\n\u001b[1;32m      9\u001b[0m     \u001b[0mprint\u001b[0m\u001b[0;34m(\u001b[0m\u001b[0mic\u001b[0m\u001b[0;34m[\u001b[0m\u001b[0;34m'CI97%'\u001b[0m\u001b[0;34m]\u001b[0m\u001b[0;34m)\u001b[0m\u001b[0;34m\u001b[0m\u001b[0;34m\u001b[0m\u001b[0m\n",
      "\u001b[0;32m/Library/Frameworks/Python.framework/Versions/3.7/lib/python3.7/site-packages/pingouin/parametric.py\u001b[0m in \u001b[0;36mttest\u001b[0;34m(x, y, paired, alternative, correction, r, confidence)\u001b[0m\n\u001b[1;32m    308\u001b[0m \u001b[0;34m\u001b[0m\u001b[0m\n\u001b[1;32m    309\u001b[0m     \u001b[0;31m# Bayes factor\u001b[0m\u001b[0;34m\u001b[0m\u001b[0;34m\u001b[0m\u001b[0;34m\u001b[0m\u001b[0m\n\u001b[0;32m--> 310\u001b[0;31m     \u001b[0mbf\u001b[0m \u001b[0;34m=\u001b[0m \u001b[0mbayesfactor_ttest\u001b[0m\u001b[0;34m(\u001b[0m\u001b[0mtval\u001b[0m\u001b[0;34m,\u001b[0m \u001b[0mnx\u001b[0m\u001b[0;34m,\u001b[0m \u001b[0mny\u001b[0m\u001b[0;34m,\u001b[0m \u001b[0mpaired\u001b[0m\u001b[0;34m=\u001b[0m\u001b[0mpaired\u001b[0m\u001b[0;34m,\u001b[0m \u001b[0malternative\u001b[0m\u001b[0;34m=\u001b[0m\u001b[0malternative\u001b[0m\u001b[0;34m,\u001b[0m \u001b[0mr\u001b[0m\u001b[0;34m=\u001b[0m\u001b[0mr\u001b[0m\u001b[0;34m)\u001b[0m\u001b[0;34m\u001b[0m\u001b[0;34m\u001b[0m\u001b[0m\n\u001b[0m\u001b[1;32m    311\u001b[0m \u001b[0;34m\u001b[0m\u001b[0m\n\u001b[1;32m    312\u001b[0m     \u001b[0;31m# Create output dictionnary\u001b[0m\u001b[0;34m\u001b[0m\u001b[0;34m\u001b[0m\u001b[0;34m\u001b[0m\u001b[0m\n",
      "\u001b[0;32m/Library/Frameworks/Python.framework/Versions/3.7/lib/python3.7/site-packages/pingouin/bayesian.py\u001b[0m in \u001b[0;36mbayesfactor_ttest\u001b[0;34m(t, nx, ny, paired, alternative, r)\u001b[0m\n\u001b[1;32m    126\u001b[0m \u001b[0;34m\u001b[0m\u001b[0m\n\u001b[1;32m    127\u001b[0m     \u001b[0;31m# Check T-value\u001b[0m\u001b[0;34m\u001b[0m\u001b[0;34m\u001b[0m\u001b[0;34m\u001b[0m\u001b[0m\n\u001b[0;32m--> 128\u001b[0;31m     \u001b[0;32massert\u001b[0m \u001b[0misinstance\u001b[0m\u001b[0;34m(\u001b[0m\u001b[0mt\u001b[0m\u001b[0;34m,\u001b[0m \u001b[0;34m(\u001b[0m\u001b[0mint\u001b[0m\u001b[0;34m,\u001b[0m \u001b[0mfloat\u001b[0m\u001b[0;34m)\u001b[0m\u001b[0;34m)\u001b[0m\u001b[0;34m,\u001b[0m \u001b[0;34m\"The T-value must be a int or a float.\"\u001b[0m\u001b[0;34m\u001b[0m\u001b[0;34m\u001b[0m\u001b[0m\n\u001b[0m\u001b[1;32m    129\u001b[0m     \u001b[0;32mif\u001b[0m \u001b[0;32mnot\u001b[0m \u001b[0mnp\u001b[0m\u001b[0;34m.\u001b[0m\u001b[0misfinite\u001b[0m\u001b[0;34m(\u001b[0m\u001b[0mt\u001b[0m\u001b[0;34m)\u001b[0m\u001b[0;34m:\u001b[0m\u001b[0;34m\u001b[0m\u001b[0;34m\u001b[0m\u001b[0m\n\u001b[1;32m    130\u001b[0m         \u001b[0;32mreturn\u001b[0m \u001b[0mnp\u001b[0m\u001b[0;34m.\u001b[0m\u001b[0mnan\u001b[0m\u001b[0;34m\u001b[0m\u001b[0;34m\u001b[0m\u001b[0m\n",
      "\u001b[0;31mAssertionError\u001b[0m: The T-value must be a int or a float."
     ]
    }
   ],
   "source": [
    "# Let's see the different between groups\n",
    "\n",
    "def group_interval_confidence():\n",
    "    cal_low = df_cal_low['Calories']\n",
    "    cal_high = df_cal_high['Calories']\n",
    "\n",
    "    ic = pg.ttest(cal_low, cal_high, paired=False, confidence=0.97)\n",
    "    print(ic.columns)\n",
    "    print(ic['CI97%'])\n",
    "\n",
    "group_interval_confidence()\n",
    "\n",
    "# la diferencia esta entre -47.928899213157294 y menos -25.858796865274062, signfiica que el promedio de bajas y altas es nagavito quiere decir que el promedio de bajas es mas chico que el de altas y por lo tanto consumo más calorias bajas que altas\n"
   ]
  },
  {
   "cell_type": "code",
   "execution_count": 18,
   "metadata": {},
   "outputs": [
    {
     "name": "stdout",
     "output_type": "stream",
     "text": [
      "stat: 1.0690164770880306\n",
      "p-value: 0.3040664525867355\n",
      "True\n"
     ]
    }
   ],
   "source": [
    "def variances():\n",
    "    # H0: equal variances\n",
    "    # Ha: distinct variances\n",
    "\n",
    "    stat, p_value = st.levene(df_cal_low['Calories'], df_cal_high['Calories'])\n",
    "    \n",
    "    # decision criteria: if p-value >= alpha, we accept H0 (equal variances), but if p-value < alpha, we reject H0 (distinct variances)\n",
    "\n",
    "    print(f\"stat: {stat}\", f\"p-value: {p_value}\", sep='\\n')\n",
    "\n",
    "    print(0.24004694677109795 > 0.03)\n",
    "\n",
    "    # * Por lo tanto, ambos grupos son iguales y hay comida similar en ambos grupos, ya que como más o menos lomismo en ambos grupos\n",
    "\n",
    "variances()"
   ]
  },
  {
   "cell_type": "markdown",
   "metadata": {},
   "source": [
    "¿Cómo son las muestras, independientes o dependientes? Recuerda que esto es importante de determinar para que en el argumento correspondiente en Python, R o Minitab® lo declares como PAIRED = TRUE o PAIRED = FALSE. \n",
    "\n",
    "***R* = Si son independientes por si solas, las latas son altas y las bajas bajas.**\n"
   ]
  },
  {
   "cell_type": "markdown",
   "metadata": {},
   "source": [
    "2. Interpreta los resultados de cada uno de los intervalos en el contexto del problema. En otras palabras responde si, en efecto, consumes más de un grupo calórico que de otro. Si esto es así, identifica qué tipo de alimentos están asociados a ese grupo, por ejemplo, comida grasosa como tacos, quesadillas, etc.\n",
    "\n",
    "***R* = Al parecer después de realizar todo el tratamiento a los datos, puedo concluir que como más comida con calorías bajas, que comida con calorías altas. En cuanto  al grupo de calorías bajas puedo dientificar comida más \"normal\" por así decirlo, me refiero a quesadillas, sandwich, entre más y uno que ora comida grasosa.**"
   ]
  },
  {
   "cell_type": "markdown",
   "metadata": {},
   "source": [
    "3. Compara el nivel promedio de carbohidratos entre dos grupos calóricos mediante un contraste de hipótesis usando el riesgo de equivocarme α=0.1. ¿Cuáles son tus conclusiones? ¿Llevas una dieta sana?\n",
    "\n",
    "***R* = esa diferencia pasa por el cero por lo tanto son iguales, por lo tanto esambos grupos en promedio consumo los mismas carbohidratos en calorías.**"
   ]
  },
  {
   "cell_type": "code",
   "execution_count": 19,
   "metadata": {},
   "outputs": [
    {
     "name": "stdout",
     "output_type": "stream",
     "text": [
      "df_carbs_low: \n"
     ]
    },
    {
     "data": {
      "text/html": [
       "<div>\n",
       "<style scoped>\n",
       "    .dataframe tbody tr th:only-of-type {\n",
       "        vertical-align: middle;\n",
       "    }\n",
       "\n",
       "    .dataframe tbody tr th {\n",
       "        vertical-align: top;\n",
       "    }\n",
       "\n",
       "    .dataframe thead th {\n",
       "        text-align: right;\n",
       "    }\n",
       "</style>\n",
       "<table border=\"1\" class=\"dataframe\">\n",
       "  <thead>\n",
       "    <tr style=\"text-align: right;\">\n",
       "      <th></th>\n",
       "      <th>Calories</th>\n",
       "      <th>Carbohydrates</th>\n",
       "    </tr>\n",
       "  </thead>\n",
       "  <tbody>\n",
       "    <tr>\n",
       "      <th>0</th>\n",
       "      <td>61.3375</td>\n",
       "      <td>8.0656</td>\n",
       "    </tr>\n",
       "    <tr>\n",
       "      <th>1</th>\n",
       "      <td>56.5156</td>\n",
       "      <td>8.2981</td>\n",
       "    </tr>\n",
       "    <tr>\n",
       "      <th>2</th>\n",
       "      <td>60.6808</td>\n",
       "      <td>8.1841</td>\n",
       "    </tr>\n",
       "    <tr>\n",
       "      <th>3</th>\n",
       "      <td>56.6705</td>\n",
       "      <td>8.8800</td>\n",
       "    </tr>\n",
       "    <tr>\n",
       "      <th>4</th>\n",
       "      <td>57.6466</td>\n",
       "      <td>7.6791</td>\n",
       "    </tr>\n",
       "    <tr>\n",
       "      <th>5</th>\n",
       "      <td>73.0291</td>\n",
       "      <td>8.3458</td>\n",
       "    </tr>\n",
       "    <tr>\n",
       "      <th>6</th>\n",
       "      <td>67.3755</td>\n",
       "      <td>8.5143</td>\n",
       "    </tr>\n",
       "    <tr>\n",
       "      <th>7</th>\n",
       "      <td>60.8057</td>\n",
       "      <td>8.1339</td>\n",
       "    </tr>\n",
       "    <tr>\n",
       "      <th>8</th>\n",
       "      <td>59.7983</td>\n",
       "      <td>12.7236</td>\n",
       "    </tr>\n",
       "    <tr>\n",
       "      <th>9</th>\n",
       "      <td>62.9359</td>\n",
       "      <td>8.6025</td>\n",
       "    </tr>\n",
       "    <tr>\n",
       "      <th>10</th>\n",
       "      <td>64.6879</td>\n",
       "      <td>8.7304</td>\n",
       "    </tr>\n",
       "    <tr>\n",
       "      <th>11</th>\n",
       "      <td>39.4713</td>\n",
       "      <td>5.7848</td>\n",
       "    </tr>\n",
       "    <tr>\n",
       "      <th>12</th>\n",
       "      <td>49.5242</td>\n",
       "      <td>7.0194</td>\n",
       "    </tr>\n",
       "    <tr>\n",
       "      <th>14</th>\n",
       "      <td>37.3273</td>\n",
       "      <td>7.1641</td>\n",
       "    </tr>\n",
       "    <tr>\n",
       "      <th>15</th>\n",
       "      <td>43.2452</td>\n",
       "      <td>6.8138</td>\n",
       "    </tr>\n",
       "    <tr>\n",
       "      <th>16</th>\n",
       "      <td>42.7942</td>\n",
       "      <td>3.9840</td>\n",
       "    </tr>\n",
       "    <tr>\n",
       "      <th>17</th>\n",
       "      <td>49.3885</td>\n",
       "      <td>6.3809</td>\n",
       "    </tr>\n",
       "    <tr>\n",
       "      <th>18</th>\n",
       "      <td>39.4713</td>\n",
       "      <td>5.7848</td>\n",
       "    </tr>\n",
       "    <tr>\n",
       "      <th>19</th>\n",
       "      <td>43.8471</td>\n",
       "      <td>7.4966</td>\n",
       "    </tr>\n",
       "    <tr>\n",
       "      <th>22</th>\n",
       "      <td>50.3073</td>\n",
       "      <td>7.3900</td>\n",
       "    </tr>\n",
       "    <tr>\n",
       "      <th>23</th>\n",
       "      <td>47.9137</td>\n",
       "      <td>7.3682</td>\n",
       "    </tr>\n",
       "    <tr>\n",
       "      <th>24</th>\n",
       "      <td>57.4567</td>\n",
       "      <td>7.7567</td>\n",
       "    </tr>\n",
       "    <tr>\n",
       "      <th>26</th>\n",
       "      <td>45.0484</td>\n",
       "      <td>7.9957</td>\n",
       "    </tr>\n",
       "    <tr>\n",
       "      <th>27</th>\n",
       "      <td>70.8755</td>\n",
       "      <td>8.3615</td>\n",
       "    </tr>\n",
       "    <tr>\n",
       "      <th>28</th>\n",
       "      <td>22.0751</td>\n",
       "      <td>4.7101</td>\n",
       "    </tr>\n",
       "    <tr>\n",
       "      <th>29</th>\n",
       "      <td>22.0751</td>\n",
       "      <td>4.7101</td>\n",
       "    </tr>\n",
       "    <tr>\n",
       "      <th>30</th>\n",
       "      <td>37.3273</td>\n",
       "      <td>7.1641</td>\n",
       "    </tr>\n",
       "    <tr>\n",
       "      <th>31</th>\n",
       "      <td>22.0751</td>\n",
       "      <td>4.7101</td>\n",
       "    </tr>\n",
       "    <tr>\n",
       "      <th>32</th>\n",
       "      <td>22.0751</td>\n",
       "      <td>4.7101</td>\n",
       "    </tr>\n",
       "    <tr>\n",
       "      <th>33</th>\n",
       "      <td>22.0751</td>\n",
       "      <td>4.7101</td>\n",
       "    </tr>\n",
       "    <tr>\n",
       "      <th>34</th>\n",
       "      <td>68.3012</td>\n",
       "      <td>9.4398</td>\n",
       "    </tr>\n",
       "    <tr>\n",
       "      <th>35</th>\n",
       "      <td>45.6974</td>\n",
       "      <td>7.2108</td>\n",
       "    </tr>\n",
       "    <tr>\n",
       "      <th>36</th>\n",
       "      <td>59.6892</td>\n",
       "      <td>8.4235</td>\n",
       "    </tr>\n",
       "    <tr>\n",
       "      <th>37</th>\n",
       "      <td>43.5343</td>\n",
       "      <td>7.4966</td>\n",
       "    </tr>\n",
       "    <tr>\n",
       "      <th>38</th>\n",
       "      <td>47.7728</td>\n",
       "      <td>7.9780</td>\n",
       "    </tr>\n",
       "    <tr>\n",
       "      <th>39</th>\n",
       "      <td>45.6974</td>\n",
       "      <td>7.2108</td>\n",
       "    </tr>\n",
       "    <tr>\n",
       "      <th>40</th>\n",
       "      <td>57.3805</td>\n",
       "      <td>7.7375</td>\n",
       "    </tr>\n",
       "    <tr>\n",
       "      <th>41</th>\n",
       "      <td>50.5726</td>\n",
       "      <td>7.6196</td>\n",
       "    </tr>\n",
       "    <tr>\n",
       "      <th>42</th>\n",
       "      <td>41.2128</td>\n",
       "      <td>11.3780</td>\n",
       "    </tr>\n",
       "    <tr>\n",
       "      <th>43</th>\n",
       "      <td>45.6727</td>\n",
       "      <td>7.2108</td>\n",
       "    </tr>\n",
       "    <tr>\n",
       "      <th>44</th>\n",
       "      <td>52.0893</td>\n",
       "      <td>7.5175</td>\n",
       "    </tr>\n",
       "    <tr>\n",
       "      <th>45</th>\n",
       "      <td>48.8185</td>\n",
       "      <td>8.2660</td>\n",
       "    </tr>\n",
       "    <tr>\n",
       "      <th>46</th>\n",
       "      <td>47.7728</td>\n",
       "      <td>7.9780</td>\n",
       "    </tr>\n",
       "    <tr>\n",
       "      <th>47</th>\n",
       "      <td>62.9873</td>\n",
       "      <td>8.5880</td>\n",
       "    </tr>\n",
       "    <tr>\n",
       "      <th>48</th>\n",
       "      <td>38.8213</td>\n",
       "      <td>6.6204</td>\n",
       "    </tr>\n",
       "    <tr>\n",
       "      <th>49</th>\n",
       "      <td>45.4490</td>\n",
       "      <td>7.5792</td>\n",
       "    </tr>\n",
       "    <tr>\n",
       "      <th>50</th>\n",
       "      <td>45.6974</td>\n",
       "      <td>7.2108</td>\n",
       "    </tr>\n",
       "    <tr>\n",
       "      <th>51</th>\n",
       "      <td>39.7047</td>\n",
       "      <td>6.0825</td>\n",
       "    </tr>\n",
       "    <tr>\n",
       "      <th>52</th>\n",
       "      <td>60.8591</td>\n",
       "      <td>8.7581</td>\n",
       "    </tr>\n",
       "    <tr>\n",
       "      <th>53</th>\n",
       "      <td>45.6974</td>\n",
       "      <td>7.2108</td>\n",
       "    </tr>\n",
       "    <tr>\n",
       "      <th>54</th>\n",
       "      <td>47.8198</td>\n",
       "      <td>8.4388</td>\n",
       "    </tr>\n",
       "    <tr>\n",
       "      <th>55</th>\n",
       "      <td>57.2470</td>\n",
       "      <td>8.5292</td>\n",
       "    </tr>\n",
       "    <tr>\n",
       "      <th>56</th>\n",
       "      <td>45.1991</td>\n",
       "      <td>6.2525</td>\n",
       "    </tr>\n",
       "    <tr>\n",
       "      <th>57</th>\n",
       "      <td>45.6974</td>\n",
       "      <td>7.2108</td>\n",
       "    </tr>\n",
       "    <tr>\n",
       "      <th>58</th>\n",
       "      <td>49.9735</td>\n",
       "      <td>8.1169</td>\n",
       "    </tr>\n",
       "    <tr>\n",
       "      <th>59</th>\n",
       "      <td>45.6727</td>\n",
       "      <td>6.5916</td>\n",
       "    </tr>\n",
       "    <tr>\n",
       "      <th>60</th>\n",
       "      <td>44.8212</td>\n",
       "      <td>6.7600</td>\n",
       "    </tr>\n",
       "    <tr>\n",
       "      <th>61</th>\n",
       "      <td>57.6466</td>\n",
       "      <td>8.3771</td>\n",
       "    </tr>\n",
       "    <tr>\n",
       "      <th>62</th>\n",
       "      <td>58.4176</td>\n",
       "      <td>7.4545</td>\n",
       "    </tr>\n",
       "    <tr>\n",
       "      <th>63</th>\n",
       "      <td>45.6974</td>\n",
       "      <td>7.2108</td>\n",
       "    </tr>\n",
       "    <tr>\n",
       "      <th>64</th>\n",
       "      <td>45.6974</td>\n",
       "      <td>7.2108</td>\n",
       "    </tr>\n",
       "    <tr>\n",
       "      <th>65</th>\n",
       "      <td>58.2119</td>\n",
       "      <td>8.1507</td>\n",
       "    </tr>\n",
       "    <tr>\n",
       "      <th>66</th>\n",
       "      <td>54.3545</td>\n",
       "      <td>7.5587</td>\n",
       "    </tr>\n",
       "    <tr>\n",
       "      <th>67</th>\n",
       "      <td>47.7728</td>\n",
       "      <td>7.9780</td>\n",
       "    </tr>\n",
       "    <tr>\n",
       "      <th>68</th>\n",
       "      <td>54.2123</td>\n",
       "      <td>7.7375</td>\n",
       "    </tr>\n",
       "    <tr>\n",
       "      <th>69</th>\n",
       "      <td>69.1359</td>\n",
       "      <td>8.5143</td>\n",
       "    </tr>\n",
       "    <tr>\n",
       "      <th>70</th>\n",
       "      <td>52.1744</td>\n",
       "      <td>8.1169</td>\n",
       "    </tr>\n",
       "    <tr>\n",
       "      <th>71</th>\n",
       "      <td>54.1716</td>\n",
       "      <td>8.4692</td>\n",
       "    </tr>\n",
       "    <tr>\n",
       "      <th>72</th>\n",
       "      <td>47.7728</td>\n",
       "      <td>7.9780</td>\n",
       "    </tr>\n",
       "    <tr>\n",
       "      <th>73</th>\n",
       "      <td>45.6974</td>\n",
       "      <td>7.2108</td>\n",
       "    </tr>\n",
       "    <tr>\n",
       "      <th>74</th>\n",
       "      <td>45.6974</td>\n",
       "      <td>7.2108</td>\n",
       "    </tr>\n",
       "    <tr>\n",
       "      <th>75</th>\n",
       "      <td>48.0542</td>\n",
       "      <td>8.1674</td>\n",
       "    </tr>\n",
       "    <tr>\n",
       "      <th>76</th>\n",
       "      <td>69.1359</td>\n",
       "      <td>8.5143</td>\n",
       "    </tr>\n",
       "    <tr>\n",
       "      <th>77</th>\n",
       "      <td>52.1744</td>\n",
       "      <td>8.1169</td>\n",
       "    </tr>\n",
       "    <tr>\n",
       "      <th>78</th>\n",
       "      <td>54.1716</td>\n",
       "      <td>8.4692</td>\n",
       "    </tr>\n",
       "    <tr>\n",
       "      <th>79</th>\n",
       "      <td>47.7728</td>\n",
       "      <td>7.9780</td>\n",
       "    </tr>\n",
       "    <tr>\n",
       "      <th>80</th>\n",
       "      <td>45.6974</td>\n",
       "      <td>7.2108</td>\n",
       "    </tr>\n",
       "    <tr>\n",
       "      <th>81</th>\n",
       "      <td>45.6974</td>\n",
       "      <td>7.2108</td>\n",
       "    </tr>\n",
       "    <tr>\n",
       "      <th>82</th>\n",
       "      <td>48.0542</td>\n",
       "      <td>8.1674</td>\n",
       "    </tr>\n",
       "    <tr>\n",
       "      <th>83</th>\n",
       "      <td>71.3063</td>\n",
       "      <td>8.6025</td>\n",
       "    </tr>\n",
       "    <tr>\n",
       "      <th>84</th>\n",
       "      <td>52.1744</td>\n",
       "      <td>8.1169</td>\n",
       "    </tr>\n",
       "    <tr>\n",
       "      <th>85</th>\n",
       "      <td>54.1716</td>\n",
       "      <td>8.4692</td>\n",
       "    </tr>\n",
       "    <tr>\n",
       "      <th>86</th>\n",
       "      <td>47.7728</td>\n",
       "      <td>7.9780</td>\n",
       "    </tr>\n",
       "    <tr>\n",
       "      <th>87</th>\n",
       "      <td>45.6974</td>\n",
       "      <td>7.2108</td>\n",
       "    </tr>\n",
       "    <tr>\n",
       "      <th>88</th>\n",
       "      <td>45.6974</td>\n",
       "      <td>7.2108</td>\n",
       "    </tr>\n",
       "    <tr>\n",
       "      <th>89</th>\n",
       "      <td>48.0542</td>\n",
       "      <td>8.1674</td>\n",
       "    </tr>\n",
       "    <tr>\n",
       "      <th>90</th>\n",
       "      <td>71.3063</td>\n",
       "      <td>8.6025</td>\n",
       "    </tr>\n",
       "  </tbody>\n",
       "</table>\n",
       "</div>"
      ],
      "text/plain": [
       "    Calories  Carbohydrates\n",
       "0    61.3375         8.0656\n",
       "1    56.5156         8.2981\n",
       "2    60.6808         8.1841\n",
       "3    56.6705         8.8800\n",
       "4    57.6466         7.6791\n",
       "5    73.0291         8.3458\n",
       "6    67.3755         8.5143\n",
       "7    60.8057         8.1339\n",
       "8    59.7983        12.7236\n",
       "9    62.9359         8.6025\n",
       "10   64.6879         8.7304\n",
       "11   39.4713         5.7848\n",
       "12   49.5242         7.0194\n",
       "14   37.3273         7.1641\n",
       "15   43.2452         6.8138\n",
       "16   42.7942         3.9840\n",
       "17   49.3885         6.3809\n",
       "18   39.4713         5.7848\n",
       "19   43.8471         7.4966\n",
       "22   50.3073         7.3900\n",
       "23   47.9137         7.3682\n",
       "24   57.4567         7.7567\n",
       "26   45.0484         7.9957\n",
       "27   70.8755         8.3615\n",
       "28   22.0751         4.7101\n",
       "29   22.0751         4.7101\n",
       "30   37.3273         7.1641\n",
       "31   22.0751         4.7101\n",
       "32   22.0751         4.7101\n",
       "33   22.0751         4.7101\n",
       "34   68.3012         9.4398\n",
       "35   45.6974         7.2108\n",
       "36   59.6892         8.4235\n",
       "37   43.5343         7.4966\n",
       "38   47.7728         7.9780\n",
       "39   45.6974         7.2108\n",
       "40   57.3805         7.7375\n",
       "41   50.5726         7.6196\n",
       "42   41.2128        11.3780\n",
       "43   45.6727         7.2108\n",
       "44   52.0893         7.5175\n",
       "45   48.8185         8.2660\n",
       "46   47.7728         7.9780\n",
       "47   62.9873         8.5880\n",
       "48   38.8213         6.6204\n",
       "49   45.4490         7.5792\n",
       "50   45.6974         7.2108\n",
       "51   39.7047         6.0825\n",
       "52   60.8591         8.7581\n",
       "53   45.6974         7.2108\n",
       "54   47.8198         8.4388\n",
       "55   57.2470         8.5292\n",
       "56   45.1991         6.2525\n",
       "57   45.6974         7.2108\n",
       "58   49.9735         8.1169\n",
       "59   45.6727         6.5916\n",
       "60   44.8212         6.7600\n",
       "61   57.6466         8.3771\n",
       "62   58.4176         7.4545\n",
       "63   45.6974         7.2108\n",
       "64   45.6974         7.2108\n",
       "65   58.2119         8.1507\n",
       "66   54.3545         7.5587\n",
       "67   47.7728         7.9780\n",
       "68   54.2123         7.7375\n",
       "69   69.1359         8.5143\n",
       "70   52.1744         8.1169\n",
       "71   54.1716         8.4692\n",
       "72   47.7728         7.9780\n",
       "73   45.6974         7.2108\n",
       "74   45.6974         7.2108\n",
       "75   48.0542         8.1674\n",
       "76   69.1359         8.5143\n",
       "77   52.1744         8.1169\n",
       "78   54.1716         8.4692\n",
       "79   47.7728         7.9780\n",
       "80   45.6974         7.2108\n",
       "81   45.6974         7.2108\n",
       "82   48.0542         8.1674\n",
       "83   71.3063         8.6025\n",
       "84   52.1744         8.1169\n",
       "85   54.1716         8.4692\n",
       "86   47.7728         7.9780\n",
       "87   45.6974         7.2108\n",
       "88   45.6974         7.2108\n",
       "89   48.0542         8.1674\n",
       "90   71.3063         8.6025"
      ]
     },
     "metadata": {},
     "output_type": "display_data"
    },
    {
     "data": {
      "text/plain": [
       "(87, 2)"
      ]
     },
     "metadata": {},
     "output_type": "display_data"
    },
    {
     "name": "stdout",
     "output_type": "stream",
     "text": [
      "df_carbs_high: \n"
     ]
    },
    {
     "data": {
      "text/html": [
       "<div>\n",
       "<style scoped>\n",
       "    .dataframe tbody tr th:only-of-type {\n",
       "        vertical-align: middle;\n",
       "    }\n",
       "\n",
       "    .dataframe tbody tr th {\n",
       "        vertical-align: top;\n",
       "    }\n",
       "\n",
       "    .dataframe thead th {\n",
       "        text-align: right;\n",
       "    }\n",
       "</style>\n",
       "<table border=\"1\" class=\"dataframe\">\n",
       "  <thead>\n",
       "    <tr style=\"text-align: right;\">\n",
       "      <th></th>\n",
       "      <th>Calories</th>\n",
       "      <th>Carbohydrates</th>\n",
       "    </tr>\n",
       "  </thead>\n",
       "  <tbody>\n",
       "    <tr>\n",
       "      <th>25</th>\n",
       "      <td>84.5577</td>\n",
       "      <td>10.6436</td>\n",
       "    </tr>\n",
       "  </tbody>\n",
       "</table>\n",
       "</div>"
      ],
      "text/plain": [
       "    Calories  Carbohydrates\n",
       "25   84.5577        10.6436"
      ]
     },
     "metadata": {},
     "output_type": "display_data"
    },
    {
     "data": {
      "text/plain": [
       "(1, 2)"
      ]
     },
     "metadata": {},
     "output_type": "display_data"
    },
    {
     "ename": "AssertionError",
     "evalue": "The T-value must be a int or a float.",
     "output_type": "error",
     "traceback": [
      "\u001b[0;31m---------------------------------------------------------------------------\u001b[0m",
      "\u001b[0;31mAssertionError\u001b[0m                            Traceback (most recent call last)",
      "\u001b[0;32m/var/folders/3_/3p9dpmm16ybf58qzg7gcrgvc0000gn/T/ipykernel_24809/776307130.py\u001b[0m in \u001b[0;36m<module>\u001b[0;34m\u001b[0m\n\u001b[1;32m     16\u001b[0m     \u001b[0mprint\u001b[0m\u001b[0;34m(\u001b[0m\u001b[0mic\u001b[0m\u001b[0;34m[\u001b[0m\u001b[0;34m'CI99%'\u001b[0m\u001b[0;34m]\u001b[0m\u001b[0;34m)\u001b[0m\u001b[0;34m\u001b[0m\u001b[0;34m\u001b[0m\u001b[0m\n\u001b[1;32m     17\u001b[0m \u001b[0;34m\u001b[0m\u001b[0m\n\u001b[0;32m---> 18\u001b[0;31m \u001b[0mcomparison\u001b[0m\u001b[0;34m(\u001b[0m\u001b[0;34m)\u001b[0m\u001b[0;34m\u001b[0m\u001b[0;34m\u001b[0m\u001b[0m\n\u001b[0m",
      "\u001b[0;32m/var/folders/3_/3p9dpmm16ybf58qzg7gcrgvc0000gn/T/ipykernel_24809/776307130.py\u001b[0m in \u001b[0;36mcomparison\u001b[0;34m()\u001b[0m\n\u001b[1;32m     12\u001b[0m \u001b[0;34m\u001b[0m\u001b[0m\n\u001b[1;32m     13\u001b[0m     \u001b[0;31m# use ttest to compare the two groups\u001b[0m\u001b[0;34m\u001b[0m\u001b[0;34m\u001b[0m\u001b[0;34m\u001b[0m\u001b[0m\n\u001b[0;32m---> 14\u001b[0;31m     \u001b[0mic\u001b[0m \u001b[0;34m=\u001b[0m \u001b[0mpg\u001b[0m\u001b[0;34m.\u001b[0m\u001b[0mttest\u001b[0m\u001b[0;34m(\u001b[0m\u001b[0mdf_carbs_low\u001b[0m\u001b[0;34m[\u001b[0m\u001b[0;34m'Carbohydrates'\u001b[0m\u001b[0;34m]\u001b[0m\u001b[0;34m,\u001b[0m \u001b[0mdf_carbs_high\u001b[0m\u001b[0;34m[\u001b[0m\u001b[0;34m'Carbohydrates'\u001b[0m\u001b[0;34m]\u001b[0m\u001b[0;34m,\u001b[0m \u001b[0mpaired\u001b[0m\u001b[0;34m=\u001b[0m\u001b[0;32mFalse\u001b[0m\u001b[0;34m,\u001b[0m \u001b[0mconfidence\u001b[0m\u001b[0;34m=\u001b[0m\u001b[0;36m0.99\u001b[0m\u001b[0;34m)\u001b[0m\u001b[0;34m\u001b[0m\u001b[0;34m\u001b[0m\u001b[0m\n\u001b[0m\u001b[1;32m     15\u001b[0m     \u001b[0mprint\u001b[0m\u001b[0;34m(\u001b[0m\u001b[0mic\u001b[0m\u001b[0;34m.\u001b[0m\u001b[0mcolumns\u001b[0m\u001b[0;34m)\u001b[0m\u001b[0;34m\u001b[0m\u001b[0;34m\u001b[0m\u001b[0m\n\u001b[1;32m     16\u001b[0m     \u001b[0mprint\u001b[0m\u001b[0;34m(\u001b[0m\u001b[0mic\u001b[0m\u001b[0;34m[\u001b[0m\u001b[0;34m'CI99%'\u001b[0m\u001b[0;34m]\u001b[0m\u001b[0;34m)\u001b[0m\u001b[0;34m\u001b[0m\u001b[0;34m\u001b[0m\u001b[0m\n",
      "\u001b[0;32m/Library/Frameworks/Python.framework/Versions/3.7/lib/python3.7/site-packages/pingouin/parametric.py\u001b[0m in \u001b[0;36mttest\u001b[0;34m(x, y, paired, alternative, correction, r, confidence)\u001b[0m\n\u001b[1;32m    308\u001b[0m \u001b[0;34m\u001b[0m\u001b[0m\n\u001b[1;32m    309\u001b[0m     \u001b[0;31m# Bayes factor\u001b[0m\u001b[0;34m\u001b[0m\u001b[0;34m\u001b[0m\u001b[0;34m\u001b[0m\u001b[0m\n\u001b[0;32m--> 310\u001b[0;31m     \u001b[0mbf\u001b[0m \u001b[0;34m=\u001b[0m \u001b[0mbayesfactor_ttest\u001b[0m\u001b[0;34m(\u001b[0m\u001b[0mtval\u001b[0m\u001b[0;34m,\u001b[0m \u001b[0mnx\u001b[0m\u001b[0;34m,\u001b[0m \u001b[0mny\u001b[0m\u001b[0;34m,\u001b[0m \u001b[0mpaired\u001b[0m\u001b[0;34m=\u001b[0m\u001b[0mpaired\u001b[0m\u001b[0;34m,\u001b[0m \u001b[0malternative\u001b[0m\u001b[0;34m=\u001b[0m\u001b[0malternative\u001b[0m\u001b[0;34m,\u001b[0m \u001b[0mr\u001b[0m\u001b[0;34m=\u001b[0m\u001b[0mr\u001b[0m\u001b[0;34m)\u001b[0m\u001b[0;34m\u001b[0m\u001b[0;34m\u001b[0m\u001b[0m\n\u001b[0m\u001b[1;32m    311\u001b[0m \u001b[0;34m\u001b[0m\u001b[0m\n\u001b[1;32m    312\u001b[0m     \u001b[0;31m# Create output dictionnary\u001b[0m\u001b[0;34m\u001b[0m\u001b[0;34m\u001b[0m\u001b[0;34m\u001b[0m\u001b[0m\n",
      "\u001b[0;32m/Library/Frameworks/Python.framework/Versions/3.7/lib/python3.7/site-packages/pingouin/bayesian.py\u001b[0m in \u001b[0;36mbayesfactor_ttest\u001b[0;34m(t, nx, ny, paired, alternative, r)\u001b[0m\n\u001b[1;32m    126\u001b[0m \u001b[0;34m\u001b[0m\u001b[0m\n\u001b[1;32m    127\u001b[0m     \u001b[0;31m# Check T-value\u001b[0m\u001b[0;34m\u001b[0m\u001b[0;34m\u001b[0m\u001b[0;34m\u001b[0m\u001b[0m\n\u001b[0;32m--> 128\u001b[0;31m     \u001b[0;32massert\u001b[0m \u001b[0misinstance\u001b[0m\u001b[0;34m(\u001b[0m\u001b[0mt\u001b[0m\u001b[0;34m,\u001b[0m \u001b[0;34m(\u001b[0m\u001b[0mint\u001b[0m\u001b[0;34m,\u001b[0m \u001b[0mfloat\u001b[0m\u001b[0;34m)\u001b[0m\u001b[0;34m)\u001b[0m\u001b[0;34m,\u001b[0m \u001b[0;34m\"The T-value must be a int or a float.\"\u001b[0m\u001b[0;34m\u001b[0m\u001b[0;34m\u001b[0m\u001b[0m\n\u001b[0m\u001b[1;32m    129\u001b[0m     \u001b[0;32mif\u001b[0m \u001b[0;32mnot\u001b[0m \u001b[0mnp\u001b[0m\u001b[0;34m.\u001b[0m\u001b[0misfinite\u001b[0m\u001b[0;34m(\u001b[0m\u001b[0mt\u001b[0m\u001b[0;34m)\u001b[0m\u001b[0;34m:\u001b[0m\u001b[0;34m\u001b[0m\u001b[0;34m\u001b[0m\u001b[0m\n\u001b[1;32m    130\u001b[0m         \u001b[0;32mreturn\u001b[0m \u001b[0mnp\u001b[0m\u001b[0;34m.\u001b[0m\u001b[0mnan\u001b[0m\u001b[0;34m\u001b[0m\u001b[0;34m\u001b[0m\u001b[0m\n",
      "\u001b[0;31mAssertionError\u001b[0m: The T-value must be a int or a float."
     ]
    }
   ],
   "source": [
    "def comparison():\n",
    "    # from df_cal_low get the calories column and carbohydrates column\n",
    "    df_carbs_low = df_cal_low[['Calories', 'Carbohydrates']]\n",
    "    print(\"df_carbs_low: \")\n",
    "    display(df_carbs_low)\n",
    "    display(df_carbs_low.shape)\n",
    "\n",
    "    df_carbs_high = df_cal_high[['Calories', 'Carbohydrates']]\n",
    "    print(\"df_carbs_high: \")\n",
    "    display(df_carbs_high)\n",
    "    display(df_carbs_high.shape)\n",
    "\n",
    "    # use ttest to compare the two groups\n",
    "    ic = pg.ttest(df_carbs_low['Carbohydrates'], df_carbs_high['Carbohydrates'], paired=False, confidence=0.99)\n",
    "    print(ic.columns)\n",
    "    print(ic['CI99%'])\n",
    "\n",
    "comparison()"
   ]
  },
  {
   "cell_type": "markdown",
   "metadata": {},
   "source": [
    "Investiga sobre los intervalos de confianza basados en el método Bootstrap. ¿Qué ventajas/desventajas tienen sobre los intervalos de confianza que requieren del supuesto de normalidad?\n",
    "\n",
    "***R*** = Supongamos que tenemos una nueva medecina y queremos probar su efectividad, pero solamente tenemos una muestra limitada de 10 pacientes. Dónde a el 70% le funciona pero al 30% no. Esto puede deberse a diferntes factores, cómo alimnetación, estilo de vida o simplemnte que la medecina no es efectiva, de igual forma tenemos que sacarle la media a los datos, pero nuevamente el proeblema sería que no serían datos 100% validados, ahora, una opción sería replicar el experimento con varios grupos de prueba, pero esto sería muy costoso, tanto en tiempo cómo dinero, ¿qué podríamos hacer en este caso?, fácil, usar el método Bootstrap.\n",
    "\n",
    "Suecede que de nuestros datos anteriores, aplicamos el \"Sampling with replacement\"  que consiste en agarrar datos random de la muestra original el mismo número de veces que de datos tengamos (se permiten duplicados) y obtenemos una nueva muestra de 10 pacientes, en este caso, entre 7 pacientes que la medecina les funcionó y 3 que no. Esto es lo que se conoce como \"Bootstrap sample\" o \"Bootstrap dataset\". Reobtenemos la media para este nuevo grupo y repetimos este proceso muchas veces, para obtener una distribución de la medecina (para almacenarlo en un nuevo grupo y representarlo en un histrograma o las pruebas de analisis permitenentes) y así poder estimar su efectividad.\n",
    "\n",
    "Básicamente, consiste en estos 4 pasos:\n",
    "1. Hacer un boostrap dataset de la muestra original.\n",
    "2. Calcular algo de la muestra original.\n",
    "3. Registrar el cálculo.\n",
    "4. Repetir los pasos 1-3 muchas veces con muestras deridabas de la original (usualmente se computariza con 10k veces para estimar la mejor distribución).\n",
    "\n",
    "**Ventajas:**\n",
    "* ***Normalización***: Te va armando la distribución de la muestra original normalizandola de alguna forma (después de suficiente veces).\n",
    "* ***Flexibilidad***: Podemos registrar la media, el error estandar u otra estadistica.\n",
    "\n",
    "**Desventajas:**\n",
    "* ***Gasto computacional***: Si la muestra es grande, puede ser tardado tener una distribución apropiada.\n",
    "* ***La muestra tiene que ser buena***: Si la muestra original no es acertada, es decir, que no represente al menos decentemente la problación total, el método no podrá hacer mucho.\n"
   ]
  }
 ],
 "metadata": {
  "kernelspec": {
   "display_name": "Python 3.7.9 64-bit",
   "language": "python",
   "name": "python3"
  },
  "language_info": {
   "codemirror_mode": {
    "name": "ipython",
    "version": 3
   },
   "file_extension": ".py",
   "mimetype": "text/x-python",
   "name": "python",
   "nbconvert_exporter": "python",
   "pygments_lexer": "ipython3",
   "version": "3.7.9"
  },
  "orig_nbformat": 4,
  "vscode": {
   "interpreter": {
    "hash": "949777d72b0d2535278d3dc13498b2535136f6dfe0678499012e853ee9abcab1"
   }
  }
 },
 "nbformat": 4,
 "nbformat_minor": 2
}
