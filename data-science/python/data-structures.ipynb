{
 "cells": [
  {
   "cell_type": "markdown",
   "metadata": {},
   "source": [
    "# Tutorial 2 Estructuras de datos"
   ]
  },
  {
   "cell_type": "code",
   "execution_count": 26,
   "metadata": {},
   "outputs": [
    {
     "name": "stdout",
     "output_type": "stream",
     "text": [
      "['Apple', 'Banana', 'Orange', 'Grape', 'Kiwi', 'Mango', 'Pineapple', 'Strawberry', 'Watermelon']\n",
      "[['Orange', 'Grape']]\n",
      "['Granada', 'Apple', 'Banana', 'Orange', 'Grape', 'Kiwi', 'Mango', 'Pineapple', 'Strawberry', 'Watermelon']\n",
      "['Granada', 'Apple', 'Banana']\n",
      "['Orange', 'Grape', 'Kiwi']\n",
      "['Mango', 'Pineapple', 'Strawberry', 'Watermelon']\n",
      "['Melon', 'Mango']\n",
      "True\n",
      "False\n",
      "False\n",
      "True\n",
      "['Granada', 'Apple', 'Banana', 'Orange', 'Grape', 'Kiwi', 'Mango', 'Pineapple', 'Strawberry', 'Watermelon', 'Mango']\n",
      "['Granada', 'Lima', 'Apple', 'Banana', 'Orange', 'Grape', 'Kiwi', 'Mango', 'Pineapple', 'Strawberry', 'Watermelon', 'Mango']\n",
      "['Granada', 'Lima', 'Apple', 'Banana', 'Grape', 'Kiwi', 'Mango', 'Pineapple', 'Strawberry', 'Watermelon', 'Mango', 'Banana']\n",
      "3\n",
      "2\n",
      "['Granada', 'Lima', 'Apple', 'Grape', 'Kiwi', 'Mango', 'Pineapple', 'Strawberry', 'Watermelon', 'Mango']\n",
      "['Mango', 'Watermelon', 'Strawberry', 'Pineapple', 'Mango', 'Kiwi', 'Grape', 'Apple', 'Lima', 'Granada']\n",
      "10\n"
     ]
    }
   ],
   "source": [
    "# 1. Arma una lista con los nombres de frutas usando el comando split(). Para ello deberás crear previamente una cadena de caracteres separados por algún tipo de caracter.\n",
    "\n",
    "string_fruit = \"Apple, Banana, Orange, Grape, Kiwi, Mango, Pineapple, Strawberry, Watermelon\"\n",
    "list_fruit = string_fruit.split(\", \")\n",
    "print(list_fruit)\n",
    "\n",
    "# 2. Extrae los elementos que son cítricos mediante alguna de las funciones explicadas en este tutorial.\n",
    "print([list_fruit[2:4]])\n",
    "\n",
    "# 3. Reasigna el valor \"granada\" en cualquier posición con respecto a la lista original del inciso 1). Guarda esta nueva lista con otro nombre.\n",
    "list_fruit.insert(0, \"Granada\") \n",
    "new_list_fruit = list_fruit\n",
    "print(new_list_fruit)\n",
    "\n",
    "# 4. Haz unas rebanadas (slices) de la lista.\n",
    "print(new_list_fruit[0:3])\n",
    "print(new_list_fruit[3:6])\n",
    "print(new_list_fruit[6:10])\n",
    "\n",
    "# 5. Crea una lista vacía y agrégale el elemento \"Melon\" y \"Mango\"\n",
    "empty_list = []\n",
    "empty_list.append(\"Melon\")\n",
    "empty_list.append(\"Mango\")\n",
    "print(empty_list)\n",
    "\n",
    "# 6. Usa los operadores in o not in para verificar si 'granada','pera', y 'Limon' pertenecen a la lista de frutas que creaste en el inciso 3)\n",
    "print(\"Granada\" in new_list_fruit)\n",
    "print(\"Granada\" not in new_list_fruit)\n",
    "print(\"Pera\" in new_list_fruit)\n",
    "print(\"Pera\" not in new_list_fruit)\n",
    "\n",
    "# 7. Usa el método append() para agregar 'mango' al final de lista_frutas.\n",
    "new_list_fruit.append(\"Mango\")\n",
    "print(new_list_fruit)\n",
    "\n",
    "# 8. Usa el método insert() para agregar 'Lima' como segundo elemento de la lista.\n",
    "new_list_fruit.insert(1, \"Lima\")\n",
    "print(new_list_fruit)\n",
    "\n",
    "# 9. Usa el método remove() para borrar 'mandarina' de la lista.\n",
    "new_list_fruit.remove(\"Orange\")\n",
    "\n",
    "# 10. Agrega una segunda copia de 'platano' al final de la lista.\n",
    "new_list_fruit.append(\"Banana\")\n",
    "print(new_list_fruit)\n",
    "\n",
    "# 11. Usa el método index() para determinar la posición de la primera aparición de 'platano' en la lista.\n",
    "print(new_list_fruit.index(\"Banana\"))\n",
    "\n",
    "# 12. Cuenta la cantidad de apariciones de 'platano' en la lista.\n",
    "print(new_list_fruit.count(\"Banana\"))\n",
    "\n",
    "# mientras encuentre el elemento 'Banana' en la lista borra todas sus apariciones\n",
    "while \"Banana\" in new_list_fruit:\n",
    "    new_list_fruit.remove(\"Banana\")\n",
    "print(new_list_fruit)\n",
    "\n",
    "# 13. Ordena la lista en orden inverso y guárdala con el nombre lista_frutas_final. ¿De qué tamaño es esta lista? 12 elementos\n",
    "new_list_fruit.reverse()\n",
    "print(new_list_fruit)\n",
    "print(len(new_list_fruit))"
   ]
  },
  {
   "cell_type": "markdown",
   "metadata": {},
   "source": [
    "# Tutorial 3 Estructuras de datos 2"
   ]
  },
  {
   "cell_type": "code",
   "execution_count": 32,
   "metadata": {},
   "outputs": [
    {
     "name": "stdout",
     "output_type": "stream",
     "text": [
      "('A', '2', '3', '4', '5', '6', '7', '8', '9', '10', 'J', 'Q', 'K')\n",
      "('C', 'D', 'E', 'T')\n",
      "True\n",
      "1 - Rojo\n",
      "2 - Naranja\n",
      "3 - Amarillo\n",
      "4 - Verde\n",
      "5 - Azul\n",
      "6 - Indigo\n",
      "7 - Violeta\n",
      "{'1': 'rojo', '2': 'naranja', '3': 'amarillo', '4': 'verde', '5': 'azul', '6': 'indigo', '7': 'violeta', '8': 'blanco'}\n"
     ]
    }
   ],
   "source": [
    "# 1. Proponer una representación con tuplas para las cartas de la baraja francesa (investiga en Google cómo está conformada).\n",
    "tupla = (\"A\", \"2\", \"3\", \"4\", \"5\", \"6\", \"7\", \"8\", \"9\", \"10\", \"J\", \"Q\", \"K\")\n",
    "tupla2 = (\"C\", \"D\", \"E\", \"T\")\n",
    "print(tupla)\n",
    "print(tupla2)\n",
    "\n",
    "# 2. Escribir una función llamada poker que reciba cinco cartas de la baraja francesa e informe (esto es, devuelva el valor lógico correspondiente) si esas cartas forman o no un poker (es decir que hay 4 cartas con el mismo número).\n",
    "def poker(card1, card2, card3, card4, card5):\n",
    "    if card1 == card2 == card3 == card4 or card1 == card2 == card3 == card5 or card1 == card2 == card4 == card5 or card1 == card3 == card4 == card5 or card2 == card3 == card4 == card5:\n",
    "        return True\n",
    "    else:\n",
    "        return False\n",
    "\n",
    "print(poker(\"A\", \"A\", \"A\", \"A\", \"K\"))\n",
    "\n",
    "\n",
    "# 1. Crea un diccionario que contenga los colores del arcoiris (rojo, naranja, amarillo, verde, azul, indigo, violeta). Debes presentarlos de tal forma que la salida en pantalla sea: 1-Rojo 2-Naranja 3-Amarillo 4-Verde 5-Azul 6-Indigo 7-Violeta\n",
    "\n",
    "# NOTA: Observa que la salida tiene letras mayúsculas, así que ingéniatelas (o investiga) y busca la manera de conseguirlo SIN CAMBIARLO DIRECTAMENTE en el diccionario.\n",
    "\n",
    "diccionario = {\"1\": \"rojo\", \"2\": \"naranja\", \"3\": \"amarillo\", \"4\": \"verde\", \"5\": \"azul\", \"6\": \"indigo\", \"7\": \"violeta\"}\n",
    "\n",
    "for key, value in diccionario.items():\n",
    "    print(key, \"-\", value.capitalize())\n",
    "\n",
    "# 2. Agrega un nuevo elemento al diccionario: blanco y asígnale el valor de 0.\n",
    "diccionario[\"8\"] = \"blanco\"\n",
    "print(diccionario)\n",
    "\n"
   ]
  }
 ],
 "metadata": {
  "kernelspec": {
   "display_name": "Python 3.9.13 64-bit",
   "language": "python",
   "name": "python3"
  },
  "language_info": {
   "codemirror_mode": {
    "name": "ipython",
    "version": 3
   },
   "file_extension": ".py",
   "mimetype": "text/x-python",
   "name": "python",
   "nbconvert_exporter": "python",
   "pygments_lexer": "ipython3",
   "version": "3.9.13"
  },
  "orig_nbformat": 4,
  "vscode": {
   "interpreter": {
    "hash": "aee8b7b246df8f9039afb4144a1f6fd8d2ca17a180786b69acc140d282b71a49"
   }
  }
 },
 "nbformat": 4,
 "nbformat_minor": 2
}
