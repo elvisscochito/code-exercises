{
 "cells": [
  {
   "cell_type": "markdown",
   "metadata": {},
   "source": [
    "# Actividad 6: tratamiento de datos (parte 1)"
   ]
  },
  {
   "cell_type": "markdown",
   "metadata": {},
   "source": [
    "> 1. Crea un dataframe y obtén la estadística descriptiva para todas las variables consideradas."
   ]
  },
  {
   "cell_type": "code",
   "execution_count": null,
   "metadata": {},
   "outputs": [],
   "source": [
    "import pandas as pd\n",
    "import numpy as np\n",
    "\n",
    "# Cargamos el dataset\n",
    "df = pd.read_csv('nutrition-facts.csv')\n",
    "\n",
    "# Obtenemos la estadística descriptiva para todas las variables consideradas.\n",
    "df.describe()"
   ]
  },
  {
   "cell_type": "markdown",
   "metadata": {},
   "source": [
    "> 2. Filtra la variable Calorías de acuerdo con algún criterio que encuentres documentado en un sitio de Internet (Cita la fuente). Crea nuevas variables con estos filtros."
   ]
  },
  {
   "cell_type": "code",
   "execution_count": null,
   "metadata": {},
   "outputs": [],
   "source": [
    "# \"Según la Organización Mundial de la Salud (OMS) establece un cálculo genérico: entre 2,000 y 2,500 calorías para los hombres\". Fuente: EXPANSION. (2019). ¿Cuántas calorías son demasiadas? Aprende a leer las etiquetas de los alimentos. Recuperado de https://expansion.mx/vida-arte/2019/08/05/cuantas-calorias-son-demasiadas-aprende-a-leer-las-etiquetas.\n",
    "average= df[(df['Calories'] >= 2000) & (df['Calories'] <= 2500)]\n",
    "average['Calories']"
   ]
  },
  {
   "cell_type": "markdown",
   "metadata": {},
   "source": [
    "> 3. Crea un nuevo dataframe con las variables que consideres más relevantes para el análisis."
   ]
  },
  {
   "cell_type": "code",
   "execution_count": null,
   "metadata": {},
   "outputs": [],
   "source": [
    "low = df[(df['Calories'] < 2000)]\n",
    "low['Calories']"
   ]
  },
  {
   "cell_type": "code",
   "execution_count": null,
   "metadata": {},
   "outputs": [],
   "source": [
    "high = df[(df['Calories'] > 2500)]\n",
    "high['Calories']"
   ]
  },
  {
   "cell_type": "markdown",
   "metadata": {},
   "source": [
    "> 4. ¿Cómo consideras que son tus hábitos alimenticios? ¿Buenos? ¿Malos?"
   ]
  },
  {
   "cell_type": "code",
   "execution_count": 28,
   "metadata": {},
   "outputs": [],
   "source": [
    "# Ciertamente, la media de calorías es de 2,000 a 2,500 calorías, teniendo esto en cuenta, en mi alimentación comí estas colorías unicamente 4 días ya que la mayoría de días (56 para ser exactos) comí menos de 2,000 calorías y los otros 3 días restantes si tienen más de 2,500 calorías, personalmente creo que es un poco exagerado comer más de 2,500 calorías en un día, pero si es posible, ya que en mi alimentación me excedí y comí 3 días más de 2,500 calorías. Aún así creo que es una alimentación saludable ya que si bien esta por debajo de la media de calorías, si es una alimentación balanceada y variada que se acerca bastante a este número."
   ]
  },
  {
   "cell_type": "markdown",
   "metadata": {},
   "source": [
    "# Actividad 8: tratamiento de datos (parte 2)"
   ]
  },
  {
   "cell_type": "markdown",
   "metadata": {},
   "source": [
    "> a) Cambia el nombre a las columnas (no dejes espacios ni pongas acentos o caracteres especiales)."
   ]
  },
  {
   "cell_type": "code",
   "execution_count": null,
   "metadata": {},
   "outputs": [],
   "source": [
    "df.replace('NA', np.nan, inplace=True)\n",
    "\n",
    "df.columns = ['Calories', 'Carbohydrates', 'Lipids', 'Protein', 'Sodium']\n",
    "df['Lipids'].fillna('No se registraron datos', inplace=True)\n",
    "df"
   ]
  },
  {
   "cell_type": "markdown",
   "metadata": {},
   "source": [
    "> b)  Rellena los datos faltantes mediante la técnica del promedio."
   ]
  },
  {
   "cell_type": "code",
   "execution_count": 46,
   "metadata": {},
   "outputs": [
    {
     "data": {
      "text/html": [
       "<div>\n",
       "<style scoped>\n",
       "    .dataframe tbody tr th:only-of-type {\n",
       "        vertical-align: middle;\n",
       "    }\n",
       "\n",
       "    .dataframe tbody tr th {\n",
       "        vertical-align: top;\n",
       "    }\n",
       "\n",
       "    .dataframe thead th {\n",
       "        text-align: right;\n",
       "    }\n",
       "</style>\n",
       "<table border=\"1\" class=\"dataframe\">\n",
       "  <thead>\n",
       "    <tr style=\"text-align: right;\">\n",
       "      <th></th>\n",
       "      <th>Calories</th>\n",
       "      <th>Carbohydrates</th>\n",
       "      <th>Lipids</th>\n",
       "      <th>Protein</th>\n",
       "      <th>Sodium</th>\n",
       "    </tr>\n",
       "  </thead>\n",
       "  <tbody>\n",
       "    <tr>\n",
       "      <th>0</th>\n",
       "      <td>1180.627119</td>\n",
       "      <td>143</td>\n",
       "      <td>No se registraron datos</td>\n",
       "      <td>47</td>\n",
       "      <td>2182</td>\n",
       "    </tr>\n",
       "    <tr>\n",
       "      <th>1</th>\n",
       "      <td>1180.627119</td>\n",
       "      <td>157</td>\n",
       "      <td>No se registraron datos</td>\n",
       "      <td>79</td>\n",
       "      <td>2000</td>\n",
       "    </tr>\n",
       "    <tr>\n",
       "      <th>2</th>\n",
       "      <td>1180.627119</td>\n",
       "      <td>150</td>\n",
       "      <td>No se registraron datos</td>\n",
       "      <td>61</td>\n",
       "      <td>1630</td>\n",
       "    </tr>\n",
       "    <tr>\n",
       "      <th>3</th>\n",
       "      <td>1180.627119</td>\n",
       "      <td>197</td>\n",
       "      <td>No se registraron datos</td>\n",
       "      <td>52</td>\n",
       "      <td>1721</td>\n",
       "    </tr>\n",
       "    <tr>\n",
       "      <th>4</th>\n",
       "      <td>1435.000000</td>\n",
       "      <td>122</td>\n",
       "      <td>No se registraron datos</td>\n",
       "      <td>60</td>\n",
       "      <td>2669</td>\n",
       "    </tr>\n",
       "    <tr>\n",
       "      <th>...</th>\n",
       "      <td>...</td>\n",
       "      <td>...</td>\n",
       "      <td>...</td>\n",
       "      <td>...</td>\n",
       "      <td>...</td>\n",
       "    </tr>\n",
       "    <tr>\n",
       "      <th>58</th>\n",
       "      <td>1061.000000</td>\n",
       "      <td>146</td>\n",
       "      <td>No se registraron datos</td>\n",
       "      <td>47</td>\n",
       "      <td>967</td>\n",
       "    </tr>\n",
       "    <tr>\n",
       "      <th>59</th>\n",
       "      <td>878.000000</td>\n",
       "      <td>76</td>\n",
       "      <td>No se registraron datos</td>\n",
       "      <td>30</td>\n",
       "      <td>1665</td>\n",
       "    </tr>\n",
       "    <tr>\n",
       "      <th>60</th>\n",
       "      <td>844.000000</td>\n",
       "      <td>82</td>\n",
       "      <td>No se registraron datos</td>\n",
       "      <td>38</td>\n",
       "      <td>1587</td>\n",
       "    </tr>\n",
       "    <tr>\n",
       "      <th>61</th>\n",
       "      <td>1435.000000</td>\n",
       "      <td>162</td>\n",
       "      <td>No se registraron datos</td>\n",
       "      <td>58</td>\n",
       "      <td>921</td>\n",
       "    </tr>\n",
       "    <tr>\n",
       "      <th>62</th>\n",
       "      <td>1476.000000</td>\n",
       "      <td>111</td>\n",
       "      <td>No se registraron datos</td>\n",
       "      <td>30</td>\n",
       "      <td>1322</td>\n",
       "    </tr>\n",
       "  </tbody>\n",
       "</table>\n",
       "<p>63 rows × 5 columns</p>\n",
       "</div>"
      ],
      "text/plain": [
       "       Calories  Carbohydrates                   Lipids  Protein  Sodium\n",
       "0   1180.627119            143  No se registraron datos       47    2182\n",
       "1   1180.627119            157  No se registraron datos       79    2000\n",
       "2   1180.627119            150  No se registraron datos       61    1630\n",
       "3   1180.627119            197  No se registraron datos       52    1721\n",
       "4   1435.000000            122  No se registraron datos       60    2669\n",
       "..          ...            ...                      ...      ...     ...\n",
       "58  1061.000000            146  No se registraron datos       47     967\n",
       "59   878.000000             76  No se registraron datos       30    1665\n",
       "60   844.000000             82  No se registraron datos       38    1587\n",
       "61  1435.000000            162  No se registraron datos       58     921\n",
       "62  1476.000000            111  No se registraron datos       30    1322\n",
       "\n",
       "[63 rows x 5 columns]"
      ]
     },
     "execution_count": 46,
     "metadata": {},
     "output_type": "execute_result"
    }
   ],
   "source": [
    "# b)  Rellena los datos faltantes mediante la técnica del promedio.\n",
    "\n",
    "\"\"\" df['Calories'].fillna(df['Calories'].mean(), inplace=True) \"\"\"\n",
    "df.fillna(df.mean(numeric_only=True), inplace=True)\n",
    "df"
   ]
  }
 ],
 "metadata": {
  "kernelspec": {
   "display_name": "Python 3.9.13 64-bit",
   "language": "python",
   "name": "python3"
  },
  "language_info": {
   "codemirror_mode": {
    "name": "ipython",
    "version": 3
   },
   "file_extension": ".py",
   "mimetype": "text/x-python",
   "name": "python",
   "nbconvert_exporter": "python",
   "pygments_lexer": "ipython3",
   "version": "3.9.13"
  },
  "orig_nbformat": 4,
  "vscode": {
   "interpreter": {
    "hash": "aee8b7b246df8f9039afb4144a1f6fd8d2ca17a180786b69acc140d282b71a49"
   }
  }
 },
 "nbformat": 4,
 "nbformat_minor": 2
}
