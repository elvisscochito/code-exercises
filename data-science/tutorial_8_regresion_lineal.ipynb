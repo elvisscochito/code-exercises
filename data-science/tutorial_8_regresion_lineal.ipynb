{
  "cells": [
    {
      "cell_type": "markdown",
      "metadata": {
        "id": "OIZ7LyFgBZ_r"
      },
      "source": [
        "# **MA1042 Matemáticas y Ciencia de Datos para la toma de decisiones**\n",
        "# **Tutorial 8: Regresión lineal en Python**\n",
        "# *Prof. Elizabeth Martínez Gómez*\n",
        "\n",
        "\n",
        "\n",
        "\n",
        "# **Regresión lineal**\n",
        "\n",
        "En esta ocasión trabajaremos de nuevo en Google Colab porque el análisis estadístico del modelo de regresión tiene una parte gráfica que es más fácil de realizar a través del módulo *seaborn*.\n",
        "\n",
        "Por una razón, que aún no comprendo, *Pycharm* no muestra las gráficas realizadas bajo *seaborn*. \n",
        "\n",
        "El módulo *scikit-learn* muestra gráficas de residuos pero no se parecen a las mostradas por R ni por Minitab. Además este módulo está más pensado para crear modelos predictivos y no explicativos como lo es el nuestro."
      ]
    },
    {
      "cell_type": "code",
      "execution_count": 3,
      "metadata": {
        "id": "cSRteuAyAo3Z"
      },
      "outputs": [],
      "source": [
        "import numpy as np\n",
        "import pandas as pd\n",
        "\n",
        "from statsmodels.compat import lzip\n",
        "import statsmodels.api as sm\n",
        "import statsmodels.formula.api as smf       # permite ajustar modelos estadísticos utilizando fórmulas al estilo de R\n",
        "import statsmodels.stats.api as sms\n",
        "from statsmodels.formula.api import ols\n",
        "from statsmodels.stats.outliers_influence import variance_inflation_factor\n",
        "\n",
        "import seaborn as sns\n",
        "import matplotlib.pyplot as plt"
      ]
    },
    {
      "cell_type": "markdown",
      "metadata": {
        "id": "aCIDWz6gyJV2"
      },
      "source": [
        "Se desea proponer un modelo lineal que permita predecir el peso de un libro en funcion de su volumen y del tipo de tapas (duras o blandas)."
      ]
    },
    {
      "cell_type": "code",
      "execution_count": 4,
      "metadata": {
        "colab": {
          "base_uri": "https://localhost:8080/",
          "height": 747
        },
        "id": "jzRWct9dyNYM",
        "outputId": "8d2e4488-df65-4c67-ab32-b089ab0f6779"
      },
      "outputs": [
        {
          "name": "stdout",
          "output_type": "stream",
          "text": [
            "    peso  volumen tipo_tapas\n",
            "0    800      885      duras\n",
            "1    950     1016      duras\n",
            "2   1050     1125      duras\n",
            "3    350      239      duras\n",
            "4    750      701      duras\n",
            "5    600      641      duras\n",
            "6   1075     1228      duras\n",
            "7    250      412    blandas\n",
            "8    700      953    blandas\n",
            "9    650      929    blandas\n",
            "10   975     1492    blandas\n",
            "11   350      419    blandas\n",
            "12   950     1010    blandas\n",
            "13   425      595    blandas\n",
            "14   725     1034    blandas\n"
          ]
        },
        {
          "data": {
            "text/html": [
              "\n",
              "  <div id=\"df-8a57e266-36e7-40b7-84d1-267ada31cc50\">\n",
              "    <div class=\"colab-df-container\">\n",
              "      <div>\n",
              "<style scoped>\n",
              "    .dataframe tbody tr th:only-of-type {\n",
              "        vertical-align: middle;\n",
              "    }\n",
              "\n",
              "    .dataframe tbody tr th {\n",
              "        vertical-align: top;\n",
              "    }\n",
              "\n",
              "    .dataframe thead th {\n",
              "        text-align: right;\n",
              "    }\n",
              "</style>\n",
              "<table border=\"1\" class=\"dataframe\">\n",
              "  <thead>\n",
              "    <tr style=\"text-align: right;\">\n",
              "      <th></th>\n",
              "      <th>peso</th>\n",
              "      <th>volumen</th>\n",
              "    </tr>\n",
              "  </thead>\n",
              "  <tbody>\n",
              "    <tr>\n",
              "      <th>peso</th>\n",
              "      <td>1.000000</td>\n",
              "      <td>0.895899</td>\n",
              "    </tr>\n",
              "    <tr>\n",
              "      <th>volumen</th>\n",
              "      <td>0.895899</td>\n",
              "      <td>1.000000</td>\n",
              "    </tr>\n",
              "  </tbody>\n",
              "</table>\n",
              "</div>\n",
              "      <button class=\"colab-df-convert\" onclick=\"convertToInteractive('df-8a57e266-36e7-40b7-84d1-267ada31cc50')\"\n",
              "              title=\"Convert this dataframe to an interactive table.\"\n",
              "              style=\"display:none;\">\n",
              "        \n",
              "  <svg xmlns=\"http://www.w3.org/2000/svg\" height=\"24px\"viewBox=\"0 0 24 24\"\n",
              "       width=\"24px\">\n",
              "    <path d=\"M0 0h24v24H0V0z\" fill=\"none\"/>\n",
              "    <path d=\"M18.56 5.44l.94 2.06.94-2.06 2.06-.94-2.06-.94-.94-2.06-.94 2.06-2.06.94zm-11 1L8.5 8.5l.94-2.06 2.06-.94-2.06-.94L8.5 2.5l-.94 2.06-2.06.94zm10 10l.94 2.06.94-2.06 2.06-.94-2.06-.94-.94-2.06-.94 2.06-2.06.94z\"/><path d=\"M17.41 7.96l-1.37-1.37c-.4-.4-.92-.59-1.43-.59-.52 0-1.04.2-1.43.59L10.3 9.45l-7.72 7.72c-.78.78-.78 2.05 0 2.83L4 21.41c.39.39.9.59 1.41.59.51 0 1.02-.2 1.41-.59l7.78-7.78 2.81-2.81c.8-.78.8-2.07 0-2.86zM5.41 20L4 18.59l7.72-7.72 1.47 1.35L5.41 20z\"/>\n",
              "  </svg>\n",
              "      </button>\n",
              "      \n",
              "  <style>\n",
              "    .colab-df-container {\n",
              "      display:flex;\n",
              "      flex-wrap:wrap;\n",
              "      gap: 12px;\n",
              "    }\n",
              "\n",
              "    .colab-df-convert {\n",
              "      background-color: #E8F0FE;\n",
              "      border: none;\n",
              "      border-radius: 50%;\n",
              "      cursor: pointer;\n",
              "      display: none;\n",
              "      fill: #1967D2;\n",
              "      height: 32px;\n",
              "      padding: 0 0 0 0;\n",
              "      width: 32px;\n",
              "    }\n",
              "\n",
              "    .colab-df-convert:hover {\n",
              "      background-color: #E2EBFA;\n",
              "      box-shadow: 0px 1px 2px rgba(60, 64, 67, 0.3), 0px 1px 3px 1px rgba(60, 64, 67, 0.15);\n",
              "      fill: #174EA6;\n",
              "    }\n",
              "\n",
              "    [theme=dark] .colab-df-convert {\n",
              "      background-color: #3B4455;\n",
              "      fill: #D2E3FC;\n",
              "    }\n",
              "\n",
              "    [theme=dark] .colab-df-convert:hover {\n",
              "      background-color: #434B5C;\n",
              "      box-shadow: 0px 1px 3px 1px rgba(0, 0, 0, 0.15);\n",
              "      filter: drop-shadow(0px 1px 2px rgba(0, 0, 0, 0.3));\n",
              "      fill: #FFFFFF;\n",
              "    }\n",
              "  </style>\n",
              "\n",
              "      <script>\n",
              "        const buttonEl =\n",
              "          document.querySelector('#df-8a57e266-36e7-40b7-84d1-267ada31cc50 button.colab-df-convert');\n",
              "        buttonEl.style.display =\n",
              "          google.colab.kernel.accessAllowed ? 'block' : 'none';\n",
              "\n",
              "        async function convertToInteractive(key) {\n",
              "          const element = document.querySelector('#df-8a57e266-36e7-40b7-84d1-267ada31cc50');\n",
              "          const dataTable =\n",
              "            await google.colab.kernel.invokeFunction('convertToInteractive',\n",
              "                                                     [key], {});\n",
              "          if (!dataTable) return;\n",
              "\n",
              "          const docLinkHtml = 'Like what you see? Visit the ' +\n",
              "            '<a target=\"_blank\" href=https://colab.research.google.com/notebooks/data_table.ipynb>data table notebook</a>'\n",
              "            + ' to learn more about interactive tables.';\n",
              "          element.innerHTML = '';\n",
              "          dataTable['output_type'] = 'display_data';\n",
              "          await google.colab.output.renderOutput(dataTable, element);\n",
              "          const docLink = document.createElement('div');\n",
              "          docLink.innerHTML = docLinkHtml;\n",
              "          element.appendChild(docLink);\n",
              "        }\n",
              "      </script>\n",
              "    </div>\n",
              "  </div>\n",
              "  "
            ],
            "text/plain": [
              "             peso   volumen\n",
              "peso     1.000000  0.895899\n",
              "volumen  0.895899  1.000000"
            ]
          },
          "execution_count": 4,
          "metadata": {},
          "output_type": "execute_result"
        },
        {
          "data": {
            "image/png": "[encoded data removed]",
            "text/plain": [
              "<Figure size 360x360 with 6 Axes>"
            ]
          },
          "metadata": {
            "needs_background": "light"
          },
          "output_type": "display_data"
        }
      ],
      "source": [
        "libros = {\"peso\":[800, 950, 1050, 350, 750, 600, 1075, 250, 700,\n",
        "                              650, 975, 350, 950, 425, 725],\n",
        "                     \"volumen\":[885, 1016, 1125, 239, 701, 641, 1228, 412, 953,\n",
        "                                 929, 1492, 419, 1010, 595, 1034],\n",
        "                     \"tipo_tapas\":[\"duras\", \"duras\", \"duras\", \"duras\", \"duras\", \n",
        "                                    \"duras\", \"duras\", \"blandas\", \"blandas\",\n",
        "                                    \"blandas\", \"blandas\", \"blandas\", \"blandas\",\n",
        "                                    \"blandas\", \"blandas\"]}\n",
        "\n",
        "df = pd.DataFrame(libros)\n",
        "print(df)                                   \n",
        "\n",
        "# matriz de graficas de dispersion\n",
        "\n",
        "sns.pairplot(df)\n",
        "\n",
        "df.corr(\"pearson\")\n"
      ]
    },
    {
      "cell_type": "markdown",
      "metadata": {
        "id": "gF3fLbMwCuDb"
      },
      "source": [
        "## **Primer modelo de regresión**\n",
        "\n",
        "# Estimación de los parámetros $\\beta$ del modelo:\n"
      ]
    },
    {
      "cell_type": "code",
      "execution_count": 5,
      "metadata": {
        "id": "JgsYuxHq5yvG"
      },
      "outputs": [],
      "source": [
        "modelo1 = ols(\"peso ~ volumen + tipo_tapas\", data=df).fit()"
      ]
    },
    {
      "cell_type": "markdown",
      "metadata": {
        "id": "Fz3xnZ_k54NQ"
      },
      "source": [
        "Los resultados del modelo son:"
      ]
    },
    {
      "cell_type": "code",
      "execution_count": 6,
      "metadata": {
        "colab": {
          "base_uri": "https://localhost:8080/"
        },
        "id": "m5VszJba58kL",
        "outputId": "5c6cf5a3-6246-4ad9-ed79-c6ee2dc56424"
      },
      "outputs": [
        {
          "name": "stdout",
          "output_type": "stream",
          "text": [
            "                            OLS Regression Results                            \n",
            "==============================================================================\n",
            "Dep. Variable:                   peso   R-squared:                       0.927\n",
            "Model:                            OLS   Adj. R-squared:                  0.915\n",
            "Method:                 Least Squares   F-statistic:                     76.73\n",
            "Date:                Sat, 03 Dec 2022   Prob (F-statistic):           1.45e-07\n",
            "Time:                        03:34:54   Log-Likelihood:                -84.999\n",
            "No. Observations:                  15   AIC:                             176.0\n",
            "Df Residuals:                      12   BIC:                             178.1\n",
            "Df Model:                           2                                         \n",
            "Covariance Type:            nonrobust                                         \n",
            "=======================================================================================\n",
            "                          coef    std err          t      P>|t|      [0.025      0.975]\n",
            "---------------------------------------------------------------------------------------\n",
            "Intercept              13.9156     59.454      0.234      0.819    -115.624     143.455\n",
            "tipo_tapas[T.duras]   184.0473     40.494      4.545      0.001      95.818     272.277\n",
            "volumen                 0.7180      0.062     11.669      0.000       0.584       0.852\n",
            "==============================================================================\n",
            "Omnibus:                       14.403   Durbin-Watson:                   1.971\n",
            "Prob(Omnibus):                  0.001   Jarque-Bera (JB):               11.516\n",
            "Skew:                           1.518   Prob(JB):                      0.00316\n",
            "Kurtosis:                       6.034   Cond. No.                     2.79e+03\n",
            "==============================================================================\n",
            "\n",
            "Notes:\n",
            "[1] Standard Errors assume that the covariance matrix of the errors is correctly specified.\n",
            "[2] The condition number is large, 2.79e+03. This might indicate that there are\n",
            "strong multicollinearity or other numerical problems.\n"
          ]
        },
        {
          "name": "stderr",
          "output_type": "stream",
          "text": [
            "/usr/local/lib/python3.8/dist-packages/scipy/stats/stats.py:1541: UserWarning: kurtosistest only valid for n>=20 ... continuing anyway, n=15\n",
            "  warnings.warn(\"kurtosistest only valid for n>=20 ... continuing \"\n"
          ]
        }
      ],
      "source": [
        "print(modelo1.summary())"
      ]
    },
    {
      "cell_type": "markdown",
      "metadata": {
        "id": "UvIMazqhkoRU"
      },
      "source": [
        "## Gráfica del modelo lineal"
      ]
    },
    {
      "cell_type": "code",
      "execution_count": null,
      "metadata": {
        "colab": {
          "base_uri": "https://localhost:8080/",
          "height": 441
        },
        "id": "RNokgQ2Vksl5",
        "outputId": "5c505916-42f5-4ca8-95b7-05ebef07c055"
      },
      "outputs": [
        {
          "name": "stderr",
          "output_type": "stream",
          "text": [
            "/usr/local/lib/python3.8/dist-packages/seaborn/_decorators.py:36: FutureWarning: Pass the following variables as keyword args: x, y. From version 0.12, the only valid positional argument will be `data`, and passing other arguments without an explicit keyword will result in an error or misinterpretation.\n",
            "  warnings.warn(\n"
          ]
        },
        {
          "data": {
            "text/plain": [
              "<seaborn.axisgrid.FacetGrid at 0x7fc793796700>"
            ]
          },
          "execution_count": 4,
          "metadata": {},
          "output_type": "execute_result"
        },
        {
          "data": {
            "image/png": "[encoded data removed]",
            "text/plain": [
              "<Figure size 360x360 with 1 Axes>"
            ]
          },
          "metadata": {
            "needs_background": "light"
          },
          "output_type": "display_data"
        }
      ],
      "source": [
        "sns.lmplot(\"volumen\", \"peso\",data=df, ci=95) # esta grafica solo tiene sentido cuando hay dos variables"
      ]
    },
    {
      "cell_type": "markdown",
      "metadata": {
        "id": "Fw6BQ1dEkyMw"
      },
      "source": [
        "La gráfica anterior muestra las observaciones originales con el primer modelo lineal propuesto. Además se muestra la banda de confianza del 95% para este modelo."
      ]
    },
    {
      "cell_type": "markdown",
      "metadata": {
        "id": "OW14SQSW6P7q"
      },
      "source": [
        "# Diagnóstico del modelo\n",
        "\n",
        "En un análisis de regresión, las observaciones individuales (por ejemplo, los *outliers*) pueden tener una fuerte influencia sobre los resultados del modelo.\n"
      ]
    },
    {
      "cell_type": "markdown",
      "metadata": {
        "id": "6RD99UqajLra"
      },
      "source": [
        "# 1. Linealidad del modelo"
      ]
    },
    {
      "cell_type": "code",
      "execution_count": null,
      "metadata": {
        "colab": {
          "base_uri": "https://localhost:8080/",
          "height": 312
        },
        "id": "aTjuYFineJbG",
        "outputId": "5cbe64d3-a54b-4e66-c0c8-13c4aeb597f6"
      },
      "outputs": [
        {
          "data": {
            "text/plain": [
              "Text(0, 0.5, 'Residuos')"
            ]
          },
          "execution_count": 5,
          "metadata": {},
          "output_type": "execute_result"
        },
        {
          "data": {
            "image/png": "[encoded data removed]",
            "text/plain": [
              "<Figure size 432x288 with 1 Axes>"
            ]
          },
          "metadata": {
            "needs_background": "light"
          },
          "output_type": "display_data"
        }
      ],
      "source": [
        "model_fitted_y = modelo1.fittedvalues\n",
        "\n",
        "plot = sns.residplot(x=model_fitted_y, y='volumen', data=df, lowess=True, \n",
        "                     scatter_kws={'alpha': 0.5}, \n",
        "                     line_kws={'color': 'red', 'lw': 1, 'alpha': 0.8})\n",
        "\n",
        "plot.set_title('Residuos vs Ajustados')\n",
        "plot.set_xlabel('Valores ajustados')\n",
        "plot.set_ylabel('Residuos')\n"
      ]
    },
    {
      "cell_type": "markdown",
      "metadata": {
        "id": "Cjkjzy1xjRml"
      },
      "source": [
        "# 2. Normalidad de los residuos"
      ]
    },
    {
      "cell_type": "code",
      "execution_count": null,
      "metadata": {
        "colab": {
          "base_uri": "https://localhost:8080/",
          "height": 596
        },
        "id": "Eg2s6itb0Ole",
        "outputId": "34cb5164-e83f-4e3f-d3dc-ade0e46ed82a"
      },
      "outputs": [
        {
          "data": {
            "text/plain": [
              "[('Jarque-Bera', 11.515514677955693),\n",
              " ('Chi^2 two-tail prob.', 0.0031581864038326257),\n",
              " ('Skew', 1.518258533877866),\n",
              " ('Kurtosis', 6.0338733628741394)]"
            ]
          },
          "execution_count": 6,
          "metadata": {},
          "output_type": "execute_result"
        },
        {
          "data": {
            "image/png": "[encoded data removed]",
            "text/plain": [
              "<Figure size 432x288 with 1 Axes>"
            ]
          },
          "metadata": {
            "needs_background": "light"
          },
          "output_type": "display_data"
        },
        {
          "data": {
            "image/png": "[encoded data removed]",
            "text/plain": [
              "<Figure size 432x288 with 1 Axes>"
            ]
          },
          "metadata": {
            "needs_background": "light"
          },
          "output_type": "display_data"
        }
      ],
      "source": [
        "# Extraemos los residuos del modelo\n",
        "resid= modelo1.resid\n",
        "#print(resid)\n",
        "\n",
        "# Hacemos un histograma para ver su distribucion\n",
        "\n",
        "sns.histplot(resid)\n",
        "\n",
        "# QQ-plot\n",
        "sm.qqplot(resid, line='s')\n",
        "\n",
        "# Prueba de hipotesis para normalidad de los residuos\n",
        "name = [\"Jarque-Bera\", \"Chi^2 two-tail prob.\", \"Skew\", \"Kurtosis\"]\n",
        "test = sms.jarque_bera(modelo1.resid)\n",
        "lzip(name, test)"
      ]
    },
    {
      "cell_type": "markdown",
      "metadata": {
        "id": "XMlU7UGO1qrS"
      },
      "source": [
        "## 3. Detección de observaciones influyentes en la regresión"
      ]
    },
    {
      "cell_type": "code",
      "execution_count": null,
      "metadata": {
        "colab": {
          "base_uri": "https://localhost:8080/",
          "height": 404
        },
        "id": "pwERYDZU0OS-",
        "outputId": "fe47a8fe-e066-4681-df8d-bc56e4a9521e"
      },
      "outputs": [
        {
          "data": {
            "image/png": "[encoded data removed]",
            "text/plain": [
              "<Figure size 576x432 with 1 Axes>"
            ]
          },
          "metadata": {
            "needs_background": "light"
          },
          "output_type": "display_data"
        }
      ],
      "source": [
        "from statsmodels.stats.outliers_influence import OLSInfluence\n",
        "\n",
        "test_class = OLSInfluence(modelo1)\n",
        "test_class.dfbetas[:5, :]\n",
        "from statsmodels.graphics.regressionplots import plot_leverage_resid2\n",
        "\n",
        "fig, ax = plt.subplots(figsize=(8, 6))\n",
        "fig = plot_leverage_resid2(modelo1, ax=ax)"
      ]
    },
    {
      "cell_type": "markdown",
      "metadata": {
        "id": "O758PGQtVmos"
      },
      "source": [
        "Una gráfica muy útil para detectar observaciones influyentes o outliers para la regresión:"
      ]
    },
    {
      "cell_type": "code",
      "execution_count": null,
      "metadata": {
        "colab": {
          "base_uri": "https://localhost:8080/",
          "height": 611
        },
        "id": "v1Pc1q_0VqNT",
        "outputId": "cd98dba6-2fa6-4f97-f6d3-217ecda22e75"
      },
      "outputs": [
        {
          "data": {
            "image/png": "[encoded data removed]",
            "text/plain": [
              "<Figure size 432x288 with 1 Axes>"
            ]
          },
          "execution_count": 8,
          "metadata": {},
          "output_type": "execute_result"
        },
        {
          "data": {
            "image/png": "[encoded data removed]",
            "text/plain": [
              "<Figure size 432x288 with 1 Axes>"
            ]
          },
          "metadata": {
            "needs_background": "light"
          },
          "output_type": "display_data"
        }
      ],
      "source": [
        "sm.graphics.influence_plot(modelo1, criterion=\"cooks\")"
      ]
    },
    {
      "cell_type": "markdown",
      "metadata": {
        "id": "Dbm-Y9nqWD8Q"
      },
      "source": [
        "Para identificar los valores que tienen una fuerte influencia, en la gráfica anterior buscamos:\n",
        "\n",
        "\n",
        "1.   Grandes puntos azules (distancia de Cook grande) y \n",
        "2.   alto apalancamiento (leverage) quienes adicionalmente tendrán\n",
        "3.   residuos muy grandes o muy bajos"
      ]
    },
    {
      "cell_type": "markdown",
      "metadata": {
        "id": "Y-EQlkh-1KGb"
      },
      "source": [
        "## 4. Homoscedasticidad (Prueba de Breusch-Pagan)"
      ]
    },
    {
      "cell_type": "code",
      "execution_count": null,
      "metadata": {
        "colab": {
          "base_uri": "https://localhost:8080/"
        },
        "id": "IcVP5ISC1FCo",
        "outputId": "c756117a-be72-491a-b7ed-4cf1cec083f6"
      },
      "outputs": [
        {
          "data": {
            "text/plain": [
              "[('Lagrange multiplier statistic', 2.0962393020402725),\n",
              " ('p-value', 0.350596373228247)]"
            ]
          },
          "execution_count": 16,
          "metadata": {},
          "output_type": "execute_result"
        }
      ],
      "source": [
        "# Notese que trabajamos sobre los residuos NO sobre las observaciones\n",
        "\n",
        "names = ['Lagrange multiplier statistic', 'p-value']\n",
        "test = sms.het_breuschpagan(modelo1.resid, modelo1.model.exog)\n",
        "lzip(name, test)"
      ]
    },
    {
      "cell_type": "markdown",
      "metadata": {
        "id": "fHx08X8FrlDt"
      },
      "source": [
        "Como el valor-p es mayor que mi riesgo $\\alpha=0.05$ entonces No rechazo hipótesis nula y por consiguiente los residuos tienen varianza constante."
      ]
    },
    {
      "cell_type": "markdown",
      "metadata": {
        "id": "pJfzxzejsLwD"
      },
      "source": [
        "## 5. Independencia de los residuos (Prueba Durbin-Watson)"
      ]
    },
    {
      "cell_type": "markdown",
      "metadata": {
        "id": "3dxHKE0zsUv7"
      },
      "source": [
        "En la tabla de resultados se nos proporciona el valor del estadístico Durbin-Watson. En este caso es 1.971 pero Python (otra vez dando dolores de cabeza) no nos da el *p-value*. Entonces buscamos una tabla de esta estadístico.\n",
        "\n",
        "Lo más fácil es usar Google y buscar \"prueba Durbin Watson Minitab\". Esa tabla está sencilla de leer y usar.\n",
        "\n",
        "De acuerdo con la explicación que allí mismo se da, se concluye que NO hay autocorrelación de los residuos. En otras palabras, significa que los residuos son **independientes**."
      ]
    },
    {
      "cell_type": "markdown",
      "metadata": {
        "id": "fjUQZYS3tNSC"
      },
      "source": [
        "## 6. Eliminación del dato influyente\n",
        "\n",
        "Aún cuando el modelo parece ser adecuado porque:\n",
        "\n",
        "1. Cumple con la significancia individual (todos los coeficientes deben ir en el modelo excepto por el intercepto). Para esto usamos el pvalue de la tabla de resultados.\n",
        "2. Cumple con la significancia conjunta, esto es, al menos un coeficiente es distinto de cero. Esto lo vimos con el pvalue del estadistico F de la tabla de resultados.\n",
        "3. La linealidad del modelo es aceptable (el valor de $R^2$ es alto) y la gráfica de residuos vs valores ajustados muestra una línea roja más o menos horizontal, además de que los residuos no muestran un patrón específico.\n",
        "4. La normalidad de los residuos es aceptable.\n",
        "5. La varianza de los residuos es constante (usamos la prueba de Breusch-Pagan).\n",
        "6. Existe la evidencia de que la observación 13 del conjunto de datos debería eliminarse del análisis porque tal vez influya de manera importante en el modelo.\n",
        "\n",
        "Así que estimaremos un segundo modelo sin esta observación."
      ]
    },
    {
      "cell_type": "code",
      "execution_count": 7,
      "metadata": {
        "colab": {
          "base_uri": "https://localhost:8080/"
        },
        "id": "jx_-oB_gtosT",
        "outputId": "caca48fe-2dac-4df1-835a-5cc5a05bf4e9"
      },
      "outputs": [
        {
          "name": "stdout",
          "output_type": "stream",
          "text": [
            "    peso  volumen tipo_tapas\n",
            "0    800      885      duras\n",
            "1    950     1016      duras\n",
            "2   1050     1125      duras\n",
            "3    350      239      duras\n",
            "4    750      701      duras\n",
            "5    600      641      duras\n",
            "6   1075     1228      duras\n",
            "7    250      412    blandas\n",
            "8    700      953    blandas\n",
            "9    650      929    blandas\n",
            "10   975     1492    blandas\n",
            "11   350      419    blandas\n",
            "13   425      595    blandas\n",
            "14   725     1034    blandas\n",
            "                            OLS Regression Results                            \n",
            "==============================================================================\n",
            "Dep. Variable:                   peso   R-squared:                       0.977\n",
            "Model:                            OLS   Adj. R-squared:                  0.973\n",
            "Method:                 Least Squares   F-statistic:                     235.4\n",
            "Date:                Sat, 03 Dec 2022   Prob (F-statistic):           9.37e-10\n",
            "Time:                        03:35:12   Log-Likelihood:                -71.271\n",
            "No. Observations:                  14   AIC:                             148.5\n",
            "Df Residuals:                      11   BIC:                             150.5\n",
            "Df Model:                           2                                         \n",
            "Covariance Type:            nonrobust                                         \n",
            "=======================================================================================\n",
            "                          coef    std err          t      P>|t|      [0.025      0.975]\n",
            "---------------------------------------------------------------------------------------\n",
            "Intercept               3.3263     33.793      0.098      0.923     -71.051      77.703\n",
            "tipo_tapas[T.duras]   214.1865     23.713      9.032      0.000     161.994     266.379\n",
            "volumen                 0.6945      0.035     19.729      0.000       0.617       0.772\n",
            "==============================================================================\n",
            "Omnibus:                        1.760   Durbin-Watson:                   2.929\n",
            "Prob(Omnibus):                  0.415   Jarque-Bera (JB):                0.945\n",
            "Skew:                          -0.215   Prob(JB):                        0.623\n",
            "Kurtosis:                       1.802   Cond. No.                     2.69e+03\n",
            "==============================================================================\n",
            "\n",
            "Notes:\n",
            "[1] Standard Errors assume that the covariance matrix of the errors is correctly specified.\n",
            "[2] The condition number is large, 2.69e+03. This might indicate that there are\n",
            "strong multicollinearity or other numerical problems.\n"
          ]
        },
        {
          "name": "stderr",
          "output_type": "stream",
          "text": [
            "/usr/local/lib/python3.8/dist-packages/scipy/stats/stats.py:1541: UserWarning: kurtosistest only valid for n>=20 ... continuing anyway, n=14\n",
            "  warnings.warn(\"kurtosistest only valid for n>=20 ... continuing \"\n"
          ]
        }
      ],
      "source": [
        "df2= df.drop(12) # borramos el renglón 13 (recuerda que Python cuenta desde cero)\n",
        "print(df2)\n",
        "\n",
        "modelo2 = ols(\"peso ~ volumen + tipo_tapas\", data=df2).fit()\n",
        "print(modelo2.summary())"
      ]
    },
    {
      "cell_type": "markdown",
      "metadata": {
        "id": "FhtPaXIFvZQx"
      },
      "source": [
        "Vemos que este modelo es mejor que el primero. Su $R^2$ es más alta, los errores bajan. Repite los pasos anteriores para validar estadísticamente el modelo."
      ]
    },
    {
      "cell_type": "markdown",
      "metadata": {
        "id": "P-nZhysgv9-q"
      },
      "source": [
        "## Modelo 3:\n",
        "\n",
        "Consideramos el modelo sin dato influyente y además (de manera muy arbitraria), decidimos elevar al cuadrado la variable Volumen."
      ]
    },
    {
      "cell_type": "code",
      "execution_count": 28,
      "metadata": {
        "colab": {
          "base_uri": "https://localhost:8080/"
        },
        "id": "OrTuzeKSwEir",
        "outputId": "84cd3361-74da-400a-cf6b-61e996373cbe"
      },
      "outputs": [
        {
          "name": "stdout",
          "output_type": "stream",
          "text": [
            "0      783225\n",
            "1     1032256\n",
            "2     1265625\n",
            "3       57121\n",
            "4      491401\n",
            "5      410881\n",
            "6     1507984\n",
            "7      169744\n",
            "8      908209\n",
            "9      863041\n",
            "10    2226064\n",
            "11     175561\n",
            "12    1020100\n",
            "13     354025\n",
            "14    1069156\n",
            "Name: volumen, dtype: int64\n",
            "    peso  volumen tipo_tapas  Volumen2  volumen2\n",
            "0    800      885      duras    783225    783225\n",
            "1    950     1016      duras   1032256   1032256\n",
            "2   1050     1125      duras   1265625   1265625\n",
            "3    350      239      duras     57121     57121\n",
            "4    750      701      duras    491401    491401\n",
            "5    600      641      duras    410881    410881\n",
            "6   1075     1228      duras   1507984   1507984\n",
            "7    250      412    blandas    169744    169744\n",
            "8    700      953    blandas    908209    908209\n",
            "9    650      929    blandas    863041    863041\n",
            "10   975     1492    blandas   2226064   2226064\n",
            "11   350      419    blandas    175561    175561\n",
            "13   425      595    blandas    354025    354025\n",
            "14   725     1034    blandas   1069156   1069156\n"
          ]
        }
      ],
      "source": [
        "vol2=df.volumen**2\n",
        "\n",
        "df2['volumen2'] = vol2  # agregamos esta nueva variable\n",
        "print(df2)"
      ]
    },
    {
      "cell_type": "code",
      "execution_count": 29,
      "metadata": {
        "colab": {
          "base_uri": "https://localhost:8080/"
        },
        "id": "_XL_gp2LwMMk",
        "outputId": "f0ce213d-1334-422f-fdd8-6cb39f0f2349"
      },
      "outputs": [
        {
          "name": "stdout",
          "output_type": "stream",
          "text": [
            "                            OLS Regression Results                            \n",
            "==============================================================================\n",
            "Dep. Variable:                   peso   R-squared:                       0.911\n",
            "Model:                            OLS   Adj. R-squared:                  0.895\n",
            "Method:                 Least Squares   F-statistic:                     56.47\n",
            "Date:                Sat, 03 Dec 2022   Prob (F-statistic):           1.64e-06\n",
            "Time:                        03:47:45   Log-Likelihood:                -80.776\n",
            "No. Observations:                  14   AIC:                             167.6\n",
            "Df Residuals:                      11   BIC:                             169.5\n",
            "Df Model:                           2                                         \n",
            "Covariance Type:            nonrobust                                         \n",
            "=======================================================================================\n",
            "                          coef    std err          t      P>|t|      [0.025      0.975]\n",
            "---------------------------------------------------------------------------------------\n",
            "Intercept             262.5932     46.943      5.594      0.000     159.272     365.915\n",
            "tipo_tapas[T.duras]   226.3292     46.773      4.839      0.001     123.382     329.277\n",
            "volumen2                0.0004   4.05e-05      9.589      0.000       0.000       0.000\n",
            "==============================================================================\n",
            "Omnibus:                        3.524   Durbin-Watson:                   2.754\n",
            "Prob(Omnibus):                  0.172   Jarque-Bera (JB):                2.312\n",
            "Skew:                          -0.984   Prob(JB):                        0.315\n",
            "Kurtosis:                       2.702   Cond. No.                     2.45e+06\n",
            "==============================================================================\n",
            "\n",
            "Notes:\n",
            "[1] Standard Errors assume that the covariance matrix of the errors is correctly specified.\n",
            "[2] The condition number is large, 2.45e+06. This might indicate that there are\n",
            "strong multicollinearity or other numerical problems.\n"
          ]
        },
        {
          "name": "stderr",
          "output_type": "stream",
          "text": [
            "/usr/local/lib/python3.8/dist-packages/scipy/stats/stats.py:1541: UserWarning: kurtosistest only valid for n>=20 ... continuing anyway, n=14\n",
            "  warnings.warn(\"kurtosistest only valid for n>=20 ... continuing \"\n"
          ]
        }
      ],
      "source": [
        "modelo3 = ols(\"peso ~ volumen2 + tipo_tapas\",data=df2).fit()\n",
        "print(modelo3.summary())"
      ]
    },
    {
      "cell_type": "markdown",
      "metadata": {
        "id": "ULhRnJGiGPDU"
      },
      "source": [
        "Vemos que empeoró este modelo."
      ]
    },
    {
      "cell_type": "code",
      "execution_count": 30,
      "metadata": {
        "colab": {
          "base_uri": "https://localhost:8080/",
          "height": 441
        },
        "id": "oZ2JRJzGGY0y",
        "outputId": "0a219275-ec99-4629-e926-f4b9f01c6a14"
      },
      "outputs": [
        {
          "name": "stderr",
          "output_type": "stream",
          "text": [
            "/usr/local/lib/python3.8/dist-packages/seaborn/_decorators.py:36: FutureWarning: Pass the following variables as keyword args: x, y. From version 0.12, the only valid positional argument will be `data`, and passing other arguments without an explicit keyword will result in an error or misinterpretation.\n",
            "  warnings.warn(\n"
          ]
        },
        {
          "data": {
            "text/plain": [
              "<seaborn.axisgrid.FacetGrid at 0x7fd15c70c2e0>"
            ]
          },
          "execution_count": 30,
          "metadata": {},
          "output_type": "execute_result"
        },
        {
          "data": {
            "image/png": "[encoded data removed]",
            "text/plain": [
              "<Figure size 360x360 with 1 Axes>"
            ]
          },
          "metadata": {
            "needs_background": "light"
          },
          "output_type": "display_data"
        }
      ],
      "source": [
        "sns.lmplot(\"volumen2\", \"peso\",data=df2, ci=95) # esta grafica solo tiene sentido cuando hay dos variables"
      ]
    },
    {
      "cell_type": "code",
      "execution_count": 39,
      "metadata": {
        "colab": {
          "base_uri": "https://localhost:8080/"
        },
        "id": "vSaeOCGgGrmc",
        "outputId": "546715e1-2aba-41a5-83a2-2071dcba5eba"
      },
      "outputs": [
        {
          "name": "stdout",
          "output_type": "stream",
          "text": [
            "[1114.5263 1398.1628 1253.4263]\n"
          ]
        }
      ],
      "source": [
        "volumen_futuro = np.array([1600,1700,1800])\n",
        "tipotapas_futuro = np.array([0,1,0]) # 0=blandas, 1=duras\n",
        "nuevos_pesos = 3.3263+0.6945*volumen_futuro+214.1865*tipotapas_futuro\n",
        "\n",
        "print(nuevos_pesos)"
      ]
    }
  ],
  "metadata": {
    "colab": {
      "provenance": []
    },
    "kernelspec": {
      "display_name": "Python 3.7.9 64-bit",
      "language": "python",
      "name": "python3"
    },
    "language_info": {
      "name": "python",
      "version": "3.7.9"
    },
    "vscode": {
      "interpreter": {
        "hash": "949777d72b0d2535278d3dc13498b2535136f6dfe0678499012e853ee9abcab1"
      }
    }
  },
  "nbformat": 4,
  "nbformat_minor": 0
}
