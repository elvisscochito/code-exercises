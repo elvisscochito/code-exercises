{
 "cells": [
  {
   "cell_type": "markdown",
   "metadata": {},
   "source": [
    "# Actividad final: Estructuras de datos (CASINO)"
   ]
  },
  {
   "cell_type": "code",
   "execution_count": 24,
   "metadata": {},
   "outputs": [
    {
     "name": "stdout",
     "output_type": "stream",
     "text": [
      "{'L': 116, 'M': -200, 'Mi': 120, 'J': -230, 'V': 250}\n",
      "{'L': 116, 'Mi': 120, 'V': 250}\n",
      "{'M': -200, 'J': -230}\n",
      "-314\n",
      "370\n"
     ]
    }
   ],
   "source": [
    "casino = {'L': 140, 'M': -150, 'Mi': 20, 'J': 120, 'V': 240}\n",
    "relet = {'L': -24, 'M': -50, 'Mi': 100, 'J': -350, 'V': 10}\n",
    "\n",
    "# ¿cuál fue la ganancia/pérdida por cada día?\n",
    "neto = {k: casino[k] + relet[k] for k in casino}\n",
    "print(neto)\n",
    "\n",
    "# 2. ¿cuáles fueron los días buenos y cuáles los días malos?\n",
    "buenos = {k: neto[k] for k in neto if neto[k] > 0}\n",
    "malos = {k: neto[k] for k in neto if neto[k] < 0}\n",
    "print(buenos)\n",
    "print(malos)\n",
    "\n",
    "# 3. Calcula el monto total de dinero que has ganado/perdido en la ruleta. ¿En total ganaste o perdiste en la semana? Perdí -264\n",
    "sum_relet = sum(relet.values())\n",
    "print(sum_relet)\n",
    "\n",
    "# Calcula el total del poker y fíjate si tus ganancias totales son más altas que en la ruleta.\n",
    "sum_casino = sum(casino.values())\n",
    "print(sum_casino)\n",
    "\n",
    "# ¿Cuál es tu conclusión? ¿Deberías dedicarte a la ruleta o al poker? Gané 340 en el poker, por lo que debería dedicarme a él."
   ]
  }
 ],
 "metadata": {
  "kernelspec": {
   "display_name": "Python 3.9.13 64-bit",
   "language": "python",
   "name": "python3"
  },
  "language_info": {
   "codemirror_mode": {
    "name": "ipython",
    "version": 3
   },
   "file_extension": ".py",
   "mimetype": "text/x-python",
   "name": "python",
   "nbconvert_exporter": "python",
   "pygments_lexer": "ipython3",
   "version": "3.9.13"
  },
  "orig_nbformat": 4,
  "vscode": {
   "interpreter": {
    "hash": "aee8b7b246df8f9039afb4144a1f6fd8d2ca17a180786b69acc140d282b71a49"
   }
  }
 },
 "nbformat": 4,
 "nbformat_minor": 2
}
