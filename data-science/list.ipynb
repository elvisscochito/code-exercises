{
 "cells": [
  {
   "cell_type": "code",
   "execution_count": null,
   "metadata": {},
   "outputs": [],
   "source": [
    "my_list = [] # create new list\n",
    "my_other_list = list() # create new list using list constructor\n",
    "\n",
    "my_list = [1, 1, 2, 3, 5, 8, 13, 21, 34, 55] # add values\n",
    "my_other_list = list([1, True, \"String\"])\n",
    "\n",
    "print(my_list[0:3]) # get first three elements\n",
    "print(my_other_list) # get all elements after the third"
   ]
  }
 ],
 "metadata": {
  "kernelspec": {
   "display_name": "Python 3.9.13 64-bit",
   "language": "python",
   "name": "python3"
  },
  "language_info": {
   "name": "python",
   "version": "3.9.13"
  },
  "orig_nbformat": 4,
  "vscode": {
   "interpreter": {
    "hash": "aee8b7b246df8f9039afb4144a1f6fd8d2ca17a180786b69acc140d282b71a49"
   }
  }
 },
 "nbformat": 4,
 "nbformat_minor": 2
}
